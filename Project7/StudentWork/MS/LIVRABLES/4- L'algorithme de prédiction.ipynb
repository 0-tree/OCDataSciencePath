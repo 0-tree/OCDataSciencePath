{
 "cells": [
  {
   "cell_type": "code",
   "execution_count": 8,
   "metadata": {
    "collapsed": true
   },
   "outputs": [],
   "source": [
    "import numpy as np\n",
    "import matplotlib.pyplot as plt\n",
    "import pickle\n",
    "import keras\n",
    "import cv2\n",
    "from PIL import Image\n",
    "\n",
    "import keras.backend as K\n",
    "K.set_image_data_format('channels_last')\n",
    "\n",
    "from matplotlib.pyplot import imshow\n",
    "from keras.preprocessing import image\n",
    "from keras.applications.xception import Xception\n",
    "from keras.applications.xception import preprocess_input\n",
    "from keras import applications\n",
    "from keras.models import Sequential\n",
    "\n",
    "from sklearn.svm import SVC\n",
    "from sklearn import preprocessing\n",
    "\n",
    "import os,sys\n",
    "import warnings\n",
    "warnings.simplefilter(\"ignore\")\n",
    "\n"
   ]
  },
  {
   "cell_type": "code",
   "execution_count": 2,
   "metadata": {},
   "outputs": [
    {
     "name": "stdout",
     "output_type": "stream",
     "text": [
      "/Volumes/Y/1-OpenClassroom - Data Scientist/09- Projet 7/Projet/database\n"
     ]
    }
   ],
   "source": [
    "cd Database"
   ]
  },
  {
   "cell_type": "code",
   "execution_count": 9,
   "metadata": {
    "collapsed": true
   },
   "outputs": [],
   "source": [
    "test_folders=os.listdir('cropped/test/images')"
   ]
  },
  {
   "cell_type": "code",
   "execution_count": 33,
   "metadata": {},
   "outputs": [
    {
     "data": {
      "text/plain": [
       "LabelEncoder()"
      ]
     },
     "execution_count": 33,
     "metadata": {},
     "output_type": "execute_result"
    }
   ],
   "source": [
    "le = preprocessing.LabelEncoder()\n",
    "le.fit(test_folders)"
   ]
  },
  {
   "cell_type": "code",
   "execution_count": 36,
   "metadata": {
    "collapsed": true
   },
   "outputs": [],
   "source": [
    "with open('modele_final.pickle', 'rb') as f:\n",
    "    model_xception, svc = pickle.load(f)"
   ]
  },
  {
   "cell_type": "code",
   "execution_count": 3,
   "metadata": {
    "collapsed": true
   },
   "outputs": [],
   "source": [
    "def Normalize_Input(X):\n",
    "    minimum=0\n",
    "    maximum=255\n",
    "    X-minimum/(maximum-minimum)\n",
    "    return X  "
   ]
  },
  {
   "cell_type": "code",
   "execution_count": 75,
   "metadata": {
    "collapsed": true
   },
   "outputs": [],
   "source": [
    "def predictor(image_a = \"cropped/test/images/n02085620-Chihuahua/n02085620_588.jpg\",\n",
    "             image_b = \"cropped/test/images/n02085620-Chihuahua/n02085620_730.jpg\"):\n",
    "    \n",
    "    \n",
    "    image_data_a = Image.open(image_a)\n",
    "    image_data_a = image_data_a.convert(\"RGB\")\n",
    "    image_arr_a = np.array(image_data_a)\n",
    "    image_data_b = Image.open(image_b)\n",
    "    image_data_b = image_data_b.convert(\"RGB\")\n",
    "    image_arr_b = np.array(image_data_b)\n",
    "    \n",
    "    images_arr = np.stack((image_arr_a, image_arr_b))\n",
    "    \n",
    "    \n",
    "    process_img = Normalize_Input(images_arr)\n",
    "    x_test = preprocess_input(process_img)\n",
    "    xception_test_features = model_xception.predict(x_test)\n",
    "    prediction = svc.predict(xception_test_features)\n",
    "    breed_pred = le.inverse_transform(prediction)\n",
    "    print(\"Our prediction for the 1st image would be: {} and for the 2nd image would be: {}\".format(breed_pred[0][10:], breed_pred[1][10:]))"
   ]
  },
  {
   "cell_type": "code",
   "execution_count": 76,
   "metadata": {},
   "outputs": [
    {
     "name": "stdout",
     "output_type": "stream",
     "text": [
      "Our prediction for the 1st image would be: Chihuahua and for the 2nd image would be: Chihuahua\n"
     ]
    }
   ],
   "source": [
    "predictor()"
   ]
  }
 ],
 "metadata": {
  "kernelspec": {
   "display_name": "Python 3",
   "language": "python",
   "name": "python3"
  },
  "language_info": {
   "codemirror_mode": {
    "name": "ipython",
    "version": 3
   },
   "file_extension": ".py",
   "mimetype": "text/x-python",
   "name": "python",
   "nbconvert_exporter": "python",
   "pygments_lexer": "ipython3",
   "version": "3.6.4"
  }
 },
 "nbformat": 4,
 "nbformat_minor": 2
}
