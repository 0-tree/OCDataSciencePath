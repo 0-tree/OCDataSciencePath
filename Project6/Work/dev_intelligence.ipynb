{
 "cells": [
  {
   "cell_type": "markdown",
   "metadata": {},
   "source": [
    "# [Projet 6: Catégorisez automatiquement des questions](https://openclassrooms.com/fr/projects/categorisez-automatiquement-des-questions)\n",
    "(parcours data: [here](https://openclassrooms.com/paths/63-data-scientist))"
   ]
  },
  {
   "cell_type": "markdown",
   "metadata": {},
   "source": [
    "## Intelligence"
   ]
  },
  {
   "cell_type": "markdown",
   "metadata": {},
   "source": [
    "Resources:\n",
    "- [tutorial on kaggle](https://www.kaggle.com/c/word2vec-nlp-tutorial#part-1-for-beginners-bag-of-words) (I did this basically on my own, but look at the features with scikit-learn section)"
   ]
  },
  {
   "cell_type": "markdown",
   "metadata": {},
   "source": [
    "### Imports"
   ]
  },
  {
   "cell_type": "code",
   "execution_count": 157,
   "metadata": {},
   "outputs": [],
   "source": [
    "import os\n",
    "HOME = os.path.expanduser('~/')\n",
    "HOST = os.uname()[1]\n",
    "if HOST == 'Arthurs-MacBook-Pro.local':\n",
    "    os.chdir(HOME+'Documents/GitHub/OCDataSciencePath/Project6/Work/')    # @home\n",
    "else:\n",
    "    raise ValueError('unknown host: {}'.format(HOST))\n",
    "    \n",
    "import numpy as np\n",
    "import pandas as pd\n",
    "import time\n",
    "import pickle\n",
    "\n",
    "import matplotlib.pyplot as plt\n",
    "%matplotlib inline"
   ]
  },
  {
   "cell_type": "code",
   "execution_count": 158,
   "metadata": {},
   "outputs": [],
   "source": [
    "from sklearn.model_selection import train_test_split\n",
    "from sklearn.multiclass import OneVsRestClassifier\n",
    "from sklearn.svm import LinearSVC\n",
    "from sklearn.linear_model import SGDClassifier, RidgeClassifier, LogisticRegression\n",
    "from sklearn.ensemble import BaggingClassifier, RandomForestClassifier\n",
    "from sklearn.model_selection import GridSearchCV\n",
    "from sklearn.metrics import make_scorer"
   ]
  },
  {
   "cell_type": "code",
   "execution_count": 243,
   "metadata": {},
   "outputs": [
    {
     "ename": "ImportError",
     "evalue": "cannot import name 'plotCV'",
     "output_type": "error",
     "traceback": [
      "\u001b[0;31m---------------------------------------------------------------------------\u001b[0m",
      "\u001b[0;31mImportError\u001b[0m                               Traceback (most recent call last)",
      "\u001b[0;32m<ipython-input-243-ce252f86a7e5>\u001b[0m in \u001b[0;36m<module>\u001b[0;34m()\u001b[0m\n\u001b[0;32m----> 1\u001b[0;31m \u001b[0;32mfrom\u001b[0m \u001b[0mPkg\u001b[0m\u001b[0;34m.\u001b[0m\u001b[0mhelper\u001b[0m \u001b[0;32mimport\u001b[0m \u001b[0mavg_jacard\u001b[0m\u001b[0;34m,\u001b[0m \u001b[0mhamming_score\u001b[0m\u001b[0;34m,\u001b[0m \u001b[0mplotCV\u001b[0m \u001b[0;31m# only works if correct working dirrectory\u001b[0m\u001b[0;34m\u001b[0m\u001b[0m\n\u001b[0m",
      "\u001b[0;31mImportError\u001b[0m: cannot import name 'plotCV'"
     ]
    }
   ],
   "source": [
    "from Pkg.helper import avg_jacard, hamming_score, plotCV # only works if correct working dirrectory"
   ]
  },
  {
   "cell_type": "markdown",
   "metadata": {},
   "source": [
    "### Data"
   ]
  },
  {
   "cell_type": "code",
   "execution_count": 160,
   "metadata": {},
   "outputs": [],
   "source": [
    "if HOST == 'Arthurs-MacBook-Pro.local':\n",
    "    pathToDataDir = HOME+'Documents/Dropbox/Transit/OCDataScienceData/Project6/Data/'    # @home\n",
    "    pathToIntellDir = HOME+'Documents/Dropbox/Transit/OCDataScienceData/Project6/Intelligence/'    # @home\n",
    "else:\n",
    "    raise ValueError('unknown host: {}'.format(HOST))"
   ]
  },
  {
   "cell_type": "code",
   "execution_count": 161,
   "metadata": {},
   "outputs": [],
   "source": [
    "filename = '100k_forLearning.npz'\n",
    "\n",
    "tmp = np.load(pathToDataDir+filename)\n",
    "x_train,x_test,y_train,y_test = tmp['arr_0'],tmp['arr_1'],tmp['arr_2'],tmp['arr_3']"
   ]
  },
  {
   "cell_type": "code",
   "execution_count": 162,
   "metadata": {},
   "outputs": [
    {
     "data": {
      "text/plain": [
       "(array([[ 0.,  0.,  0., ...,  0.,  0.,  0.],\n",
       "        [ 0.,  0.,  0., ...,  0.,  0.,  0.],\n",
       "        [ 0.,  0.,  0., ...,  0.,  0.,  0.],\n",
       "        ..., \n",
       "        [ 0.,  0.,  0., ...,  0.,  0.,  0.],\n",
       "        [ 0.,  0.,  0., ...,  0.,  0.,  0.],\n",
       "        [ 0.,  0.,  0., ...,  0.,  0.,  0.]]), (80063, 597))"
      ]
     },
     "execution_count": 162,
     "metadata": {},
     "output_type": "execute_result"
    }
   ],
   "source": [
    "x_train,x_train.shape"
   ]
  },
  {
   "cell_type": "code",
   "execution_count": 163,
   "metadata": {},
   "outputs": [
    {
     "data": {
      "text/plain": [
       "(array([[ 0.,  0.,  0., ...,  0.,  0.,  0.],\n",
       "        [ 0.,  0.,  0., ...,  0.,  0.,  0.],\n",
       "        [ 0.,  0.,  0., ...,  0.,  0.,  0.],\n",
       "        ..., \n",
       "        [ 0.,  0.,  0., ...,  0.,  0.,  0.],\n",
       "        [ 0.,  0.,  0., ...,  0.,  0.,  0.],\n",
       "        [ 0.,  0.,  0., ...,  0.,  0.,  0.]]), (20046, 597))"
      ]
     },
     "execution_count": 163,
     "metadata": {},
     "output_type": "execute_result"
    }
   ],
   "source": [
    "x_test,x_test.shape"
   ]
  },
  {
   "cell_type": "code",
   "execution_count": 164,
   "metadata": {},
   "outputs": [
    {
     "data": {
      "text/plain": [
       "(array([[0, 0, 0, ..., 0, 0, 0],\n",
       "        [0, 0, 0, ..., 0, 0, 0],\n",
       "        [1, 0, 0, ..., 0, 0, 0],\n",
       "        ..., \n",
       "        [0, 0, 0, ..., 0, 0, 0],\n",
       "        [0, 1, 0, ..., 0, 0, 0],\n",
       "        [0, 0, 0, ..., 0, 0, 0]]), (80063, 20))"
      ]
     },
     "execution_count": 164,
     "metadata": {},
     "output_type": "execute_result"
    }
   ],
   "source": [
    "y_train,y_train.shape"
   ]
  },
  {
   "cell_type": "code",
   "execution_count": 165,
   "metadata": {},
   "outputs": [
    {
     "data": {
      "text/plain": [
       "(array([[0, 0, 0, ..., 0, 0, 0],\n",
       "        [0, 0, 0, ..., 0, 0, 0],\n",
       "        [1, 0, 0, ..., 0, 0, 0],\n",
       "        ..., \n",
       "        [1, 0, 0, ..., 0, 0, 0],\n",
       "        [0, 0, 0, ..., 0, 0, 0],\n",
       "        [0, 0, 1, ..., 0, 0, 0]]), (20046, 20))"
      ]
     },
     "execution_count": 165,
     "metadata": {},
     "output_type": "execute_result"
    }
   ],
   "source": [
    "y_test,y_test.shape"
   ]
  },
  {
   "cell_type": "markdown",
   "metadata": {},
   "source": [
    "### Explore models"
   ]
  },
  {
   "cell_type": "markdown",
   "metadata": {},
   "source": [
    "Use [OneVsRest](http://scikit-learn.org/stable/modules/generated/sklearn.multiclass.OneVsRestClassifier.html) to perform multi-label (as in [here](https://towardsdatascience.com/multi-label-text-classification-with-scikit-learn-30714b7819c5),...)."
   ]
  },
  {
   "cell_type": "markdown",
   "metadata": {},
   "source": [
    "**Notes:**\n",
    "- the tags are heavily imbalanced -> predicts 0 if we do nothing for it"
   ]
  },
  {
   "cell_type": "code",
   "execution_count": 166,
   "metadata": {},
   "outputs": [],
   "source": [
    "x_t,x_v,y_t,y_v = train_test_split(x_train,y_train,test_size=0.2,random_state=8)"
   ]
  },
  {
   "cell_type": "code",
   "execution_count": 189,
   "metadata": {},
   "outputs": [
    {
     "name": "stdout",
     "output_type": "stream",
     "text": [
      "done: took 20.91s\n"
     ]
    }
   ],
   "source": [
    "ovr = OneVsRestClassifier(LinearSVC(penalty='l2',\n",
    "                                    loss='squared_hinge',\n",
    "                                    dual=False,\n",
    "                                    C=10, # 0.1, #1.0,\n",
    "                                    fit_intercept=True,\n",
    "                                    class_weight='balanced',\n",
    "                                    random_state=8))\n",
    "\n",
    "tic = time.time()\n",
    "ovr.fit(x_t,y_t)\n",
    "print('done: took {}s'.format(np.round(time.time()-tic,2)))"
   ]
  },
  {
   "cell_type": "markdown",
   "metadata": {},
   "source": [
    "*full batch linear SVC: depending on parameters like `loss` and `penalty`, it is too long for full data*  \n",
    "-> OK **only** setup with reasonable speed (still a function of `C` but reasonable):\n",
    "`penalty='l2',loss='squared_hinge',dual=False`"
   ]
  },
  {
   "cell_type": "code",
   "execution_count": 205,
   "metadata": {},
   "outputs": [],
   "source": [
    "ovrlsvc_base = OneVsRestClassifier(LinearSVC(penalty='l2',\n",
    "                                             loss='hinge',\n",
    "                                             C=1,\n",
    "                                             dual=False, # prefer dual=False when n_samples > n_features.\n",
    "                                             fit_intercept=True,\n",
    "                                             class_weight='balanced',\n",
    "                                             random_state=8))\n",
    "# ovrlsvc_base.get_params() # gridsearchable parameters...\n",
    "param_grid = {\n",
    "    'estimator__penalty': ['l2'],\n",
    "    'estimator__loss': ['squared_hinge'],\n",
    "\n",
    "    'estimator__C': [0.01,0.1,1,10,100,1000,10000],\n",
    "    'estimator__class_weight': ['balanced',None]\n",
    "}\n",
    "\n",
    "cv = 4\n",
    "n_jobs = None # None <=> 1 # many problems with multuprocessing: https://github.com/scikit-learn/scikit-learn/issues/2889\n",
    "ovrlsvc_cv = GridSearchCV(ovrlsvc_base,\n",
    "                          param_grid=param_grid,\n",
    "                          scoring=make_scorer(avg_jacard,greater_is_better=True),\n",
    "                          n_jobs=n_jobs,\n",
    "                          refit=True,\n",
    "                          cv=cv,\n",
    "                          verbose=1,\n",
    "                          return_train_score=True)"
   ]
  },
  {
   "cell_type": "code",
   "execution_count": 206,
   "metadata": {},
   "outputs": [
    {
     "name": "stdout",
     "output_type": "stream",
     "text": [
      "Fitting 4 folds for each of 14 candidates, totalling 56 fits\n"
     ]
    },
    {
     "name": "stderr",
     "output_type": "stream",
     "text": [
      "[Parallel(n_jobs=None)]: Done  56 out of  56 | elapsed: 14.1min finished\n"
     ]
    },
    {
     "name": "stdout",
     "output_type": "stream",
     "text": [
      "done: took 862.39s\n"
     ]
    }
   ],
   "source": [
    "tic = time.time()\n",
    "ovrlsvc_cv.fit(x_t,y_t) # keep x_v for 'test'\n",
    "print('done: took {}s'.format(np.round(time.time()-tic,2)))\n",
    "\n",
    "# done: took 862.39s"
   ]
  },
  {
   "cell_type": "markdown",
   "metadata": {},
   "source": [
    "*SGD: not realy minibatch wihtout many efforts*"
   ]
  },
  {
   "cell_type": "code",
   "execution_count": 102,
   "metadata": {},
   "outputs": [],
   "source": [
    "# ovrsgd_base = OneVsRestClassifier(SGDClassifier(loss='hinge',\n",
    "#                                                 penalty='l2',\n",
    "#                                                 alpha=0.0001,\n",
    "#                                                 l1_ratio=0,\n",
    "#                                                 fit_intercept=True,\n",
    "#                                                 max_iter=None,\n",
    "#                                                 tol=1e-3,\n",
    "#                                                 shuffle=True,\n",
    "#                                                 verbose=0,\n",
    "#                                                 n_jobs=1,\n",
    "#                                                 random_state=8,\n",
    "#                                                 learning_rate='optimal',\n",
    "#                                                 eta0=0.0,\n",
    "#                                                 power_t=0.5,\n",
    "#                                                 class_weight='balanced',\n",
    "#                                                 warm_start=False,\n",
    "#                                                 average=False))\n",
    "# ovrsgd_base.get_params() # gridsearchable parameters...\n",
    "# param_grid = {\n",
    "#     'estimator__tol': [1e-3,1e-1],  \n",
    "    \n",
    "# #     'estimator__penalty': ['l1','l2'],\n",
    "#     'estimator__penalty': ['l2'],\n",
    "    \n",
    "# #     'estimator__alpha': [.001, .01, .1, 1, 10, 100],\n",
    "#     'estimator__alpha': [.1, 1, 10],\n",
    "\n",
    "# #     'estimator__class_weight': ['balanced',None]\n",
    "#     'estimator__class_weight': ['balanced']\n",
    "# }\n",
    "\n",
    "# cv = 4\n",
    "# n_jobs = 1\n",
    "# ovrsgd_cv = GridSearchCV(ovrsgd_base,\n",
    "#                          param_grid=param_grid,\n",
    "#                          scoring=make_scorer(avg_jacard,greater_is_better=True),\n",
    "#                          n_jobs=n_jobs,\n",
    "#                          refit=True,\n",
    "#                          cv=cv,\n",
    "#                          verbose=2,\n",
    "#                          return_train_score=True)"
   ]
  },
  {
   "cell_type": "code",
   "execution_count": null,
   "metadata": {},
   "outputs": [],
   "source": [
    "# tic = time.time()\n",
    "# ovrsgd_cv.fit(x_t,y_t) # keep x_v for 'test'\n",
    "# print('done: took {}s'.format(np.round(time.time()-tic,2)))"
   ]
  },
  {
   "cell_type": "markdown",
   "metadata": {},
   "source": [
    "*bagged models from smaller data (at least [one guy](https://stackoverflow.com/questions/31681373/making-svm-run-faster-in-python#32025662) says it's possible)- let's see:*"
   ]
  },
  {
   "cell_type": "code",
   "execution_count": 115,
   "metadata": {},
   "outputs": [],
   "source": [
    "# lsvc_base = LinearSVC(penalty='l2',\n",
    "#                       loss='squared_hinge',\n",
    "#                       C=1,\n",
    "#                       dual=False, # prefer dual=False when n_samples > n_features.\n",
    "#                       fit_intercept=True,\n",
    "#                       class_weight='balanced',\n",
    "#                       random_state=8)\n",
    "# bagged_lsvc_base = BaggingClassifier(base_estimator=lsvc_base,\n",
    "#                                         n_estimators=10,\n",
    "#                                         max_samples=1.0,\n",
    "#                                         max_features=1.0,\n",
    "#                                         bootstrap=False,\n",
    "#                                         bootstrap_features=False,\n",
    "#                                         oob_score=False,\n",
    "#                                         warm_start=False,\n",
    "#                                         n_jobs=1,\n",
    "#                                         random_state=8,\n",
    "#                                         verbose=2)\n",
    "# ovr_bagged_lsvc_base = OneVsRestClassifier(bagged_lsvc_base)\n",
    "\n",
    "# # ovr_bagged_lsvc_base.get_params() # gridsearchable parameters...\n",
    "# param_grid = {\n",
    "# #     'estimator__penalty': ['l1','l2'],\n",
    "#     'estimator__base_estimator__penalty': ['l1'],\n",
    "    \n",
    "# #     'estimator__C': [.001, .01, .1, 1, 10, 100],\n",
    "#     'estimator__base_estimator__C': [.1, 1, 10],\n",
    "\n",
    "# #     'estimator__class_weight': ['balanced',None]\n",
    "#     'estimator__base_estimator__class_weight': ['balanced'],\n",
    "    \n",
    "#     'estimator__max_samples': [1000, 10000],\n",
    "#     'estimator__n_estimators': [10, 50],\n",
    "# }\n",
    "\n",
    "# cv = 4\n",
    "# n_jobs = 4\n",
    "# bagged_ovrlsvc_cv = GridSearchCV(ovr_bagged_lsvc_base,\n",
    "#                                  param_grid=param_grid,\n",
    "#                                  scoring=make_scorer(avg_jacard,greater_is_better=True),\n",
    "#                                  n_jobs=n_jobs,\n",
    "#                                  refit=True,\n",
    "#                                  cv=cv,\n",
    "#                                  verbose=2,\n",
    "#                                  return_train_score=True)"
   ]
  },
  {
   "cell_type": "code",
   "execution_count": 118,
   "metadata": {},
   "outputs": [],
   "source": [
    "# tic = time.time()\n",
    "# bagged_ovrlsvc_cv.fit(x_t,y_t) # keep x_v for 'test'\n",
    "# print('done: took {}s'.format(np.round(time.time()-tic,2)))"
   ]
  },
  {
   "cell_type": "markdown",
   "metadata": {},
   "source": [
    "*but [the guy](https://stackoverflow.com/questions/31681373/making-svm-run-faster-in-python#32025662) also proposes RandomForest (again...) to tackle all aspects at once - let's see:*\n",
    "\n",
    "**BUT** scikit's RF does **NOT** perform subsetting accros samples :("
   ]
  },
  {
   "cell_type": "code",
   "execution_count": 124,
   "metadata": {},
   "outputs": [],
   "source": [
    "# # but keep in mind it will be hard for the tree to grow if only few features are useful among my many...\n",
    "# # so maybe consider Pipelining and reducing dimensionalty?\n",
    "# rf_base = RandomForestClassifier(n_estimators=10,\n",
    "#                                  criterion='gini',\n",
    "#                                  max_depth=None,\n",
    "#                                  min_samples_split=2,\n",
    "#                                  min_samples_leaf=1,\n",
    "#                                  min_weight_fraction_leaf=0.0,\n",
    "#                                  max_features=x_t.shape[1], # (equibalent to None) here most of the use of RF may be lost\n",
    "#                                  max_leaf_nodes=None,\n",
    "#                                  min_impurity_decrease=0.0,\n",
    "#                                  min_impurity_split=None, \n",
    "#                                  bootstrap=False,\n",
    "#                                  oob_score=False,\n",
    "#                                  n_jobs=1,\n",
    "#                                  random_state=None,\n",
    "#                                  verbose=0,\n",
    "#                                  warm_start=False,\n",
    "#                                  class_weight='balanced')\n",
    "\n",
    "# rf_base.get_params() # gridsearchable parameters...\n",
    "# param_grid = {\n",
    "#     'max_depth': [5,10],\n",
    "#     'max_features': ['auto',x_t.shape[1]],\n",
    "#     'class_weight': ['balanced'],  \n",
    "#     'n_estimators': [10, 50],\n",
    "# }\n",
    "\n",
    "# cv = 4\n",
    "# n_jobs = 4\n",
    "# rf_base_cv = GridSearchCV(rf_base,\n",
    "#                           param_grid=param_grid,\n",
    "#                           scoring=make_scorer(avg_jacard,greater_is_better=True),\n",
    "#                           n_jobs=n_jobs,\n",
    "#                           refit=True,\n",
    "#                           cv=cv,\n",
    "#                           verbose=2,\n",
    "#                           return_train_score=True)"
   ]
  },
  {
   "cell_type": "code",
   "execution_count": 139,
   "metadata": {},
   "outputs": [],
   "source": [
    "# tic = time.time()\n",
    "# rf_base_cv.fit(x_t,y_t) # keep x_v for 'test'\n",
    "# print('done: took {}s'.format(np.round(time.time()-tic,2)))\n",
    "\n",
    "# # done: took 3022.61s"
   ]
  },
  {
   "cell_type": "markdown",
   "metadata": {},
   "source": [
    "*try a light model: the good old LogisticRegression!*"
   ]
  },
  {
   "cell_type": "code",
   "execution_count": 144,
   "metadata": {},
   "outputs": [],
   "source": [
    "# ovrlr_base = OneVsRestClassifier(LogisticRegression(penalty='l2',\n",
    "#                                                     dual=False, # prefer dual=False when n_samples > n_features\n",
    "#                                                     tol=0.0001,\n",
    "#                                                     C=1.0,\n",
    "#                                                     fit_intercept=True,\n",
    "#                                                     intercept_scaling=1,\n",
    "#                                                     class_weight='balanced',\n",
    "#                                                     random_state=8,\n",
    "#                                                     solver='saga',\n",
    "#                                                     max_iter=100,\n",
    "#                                                     verbose=2,\n",
    "#                                                     warm_start=False,\n",
    "#                                                     n_jobs=1))\n",
    "# # ovrlr_base.get_params() # gridsearchable parameters...\n",
    "# param_grid = {\n",
    "# #     'estimator__penalty': ['l1','l2'],\n",
    "#     'estimator__penalty': ['l2'],\n",
    "    \n",
    "# #     'estimator__C': [.001, .01, .1, 1, 10, 100],\n",
    "#     'estimator__C': [1],\n",
    "\n",
    "# #     'estimator__class_weight': ['balanced',None]\n",
    "#     'estimator__class_weight': ['balanced']\n",
    "# }\n",
    "\n",
    "# cv = 4\n",
    "# n_jobs = 4\n",
    "# ovrlr_cv = GridSearchCV(ovrlr_base,\n",
    "#                         param_grid=param_grid,\n",
    "#                         scoring=make_scorer(avg_jacard,greater_is_better=True),\n",
    "#                         n_jobs=n_jobs,\n",
    "#                         refit=True,\n",
    "#                         cv=cv,\n",
    "#                         verbose=2,\n",
    "#                         return_train_score=True)"
   ]
  },
  {
   "cell_type": "code",
   "execution_count": 146,
   "metadata": {},
   "outputs": [],
   "source": [
    "# tic = time.time()\n",
    "# ovrlr_cv.fit(x_t,y_t) # keep x_v for 'test'\n",
    "# print('done: took {}s'.format(np.round(time.time()-tic,2)))"
   ]
  },
  {
   "cell_type": "markdown",
   "metadata": {},
   "source": [
    "*wow! Even the Logistic Regression is problematic (due to the OvR with 37 classes...), what about Ridge?*"
   ]
  },
  {
   "cell_type": "code",
   "execution_count": 153,
   "metadata": {},
   "outputs": [],
   "source": [
    "# ovrridge_base = OneVsRestClassifier(RidgeClassifier(alpha=1.0,\n",
    "#                                           fit_intercept=True,\n",
    "#                                           normalize=False,\n",
    "#                                           copy_X=True,\n",
    "#                                           max_iter=None,\n",
    "#                                           tol=0.001,\n",
    "#                                           class_weight='balanced',\n",
    "#                                           solver='saga', # saga: not exact actually; lsqr: it is the fastest and uses an iterative procedure\n",
    "#                                           random_state=8))\n",
    "# # ovrridge_base.get_params() # gridsearchable parameters...\n",
    "# param_grid = {\n",
    "# #     'estimator__C': [.001, .01, .1, 1, 10, 100],\n",
    "#     'estimator__alpha': [1],\n",
    "\n",
    "# #     'estimator__class_weight': ['balanced',None]\n",
    "#     'estimator__class_weight': ['balanced']\n",
    "# }\n",
    "\n",
    "# cv = 4\n",
    "# n_jobs = 4\n",
    "# ovrridge_cv = GridSearchCV(ovrridge_base,\n",
    "#                            param_grid=param_grid,\n",
    "#                            scoring=make_scorer(avg_jacard,greater_is_better=True),\n",
    "#                            n_jobs=n_jobs,\n",
    "#                            refit=True,\n",
    "#                            cv=cv,\n",
    "#                            verbose=2,\n",
    "#                            return_train_score=True)"
   ]
  },
  {
   "cell_type": "code",
   "execution_count": 155,
   "metadata": {},
   "outputs": [],
   "source": [
    "# tic = time.time()\n",
    "# ovrlr_cv.fit(x_t,y_t) # keep x_v for 'test'\n",
    "# print('done: took {}s'.format(np.round(time.time()-tic,2)))"
   ]
  },
  {
   "cell_type": "markdown",
   "metadata": {},
   "source": [
    "### Assess the model"
   ]
  },
  {
   "cell_type": "code",
   "execution_count": 238,
   "metadata": {},
   "outputs": [],
   "source": [
    "model = ovrlsvc_cv"
   ]
  },
  {
   "cell_type": "code",
   "execution_count": 242,
   "metadata": {},
   "outputs": [],
   "source": [
    "# pd.DataFrame(model.cv_results_)"
   ]
  },
  {
   "cell_type": "code",
   "execution_count": 246,
   "metadata": {},
   "outputs": [
    {
     "data": {
      "image/png": "[encoded data removed]",
      "text/plain": [
       "<matplotlib.figure.Figure at 0x1055a29e8>"
      ]
     },
     "metadata": {},
     "output_type": "display_data"
    }
   ],
   "source": [
    "plotCV(model,3)"
   ]
  },
  {
   "cell_type": "code",
   "execution_count": 229,
   "metadata": {},
   "outputs": [],
   "source": [
    "i = 5000000\n",
    "x_v_ = x_v[:i,:]\n",
    "y_v_ = y_v[:i,:]\n",
    "\n",
    "y_hat = model.predict(x_v_)"
   ]
  },
  {
   "cell_type": "code",
   "execution_count": 230,
   "metadata": {},
   "outputs": [
    {
     "data": {
      "text/plain": [
       "(array([[0, 0, 0, ..., 0, 0, 0],\n",
       "        [0, 0, 0, ..., 0, 0, 0],\n",
       "        [0, 0, 0, ..., 0, 0, 0],\n",
       "        ..., \n",
       "        [0, 0, 0, ..., 0, 0, 0],\n",
       "        [0, 0, 0, ..., 0, 0, 0],\n",
       "        [0, 0, 0, ..., 0, 0, 0]]), (16013, 20))"
      ]
     },
     "execution_count": 230,
     "metadata": {},
     "output_type": "execute_result"
    }
   ],
   "source": [
    "y_hat,y_hat.shape"
   ]
  },
  {
   "cell_type": "code",
   "execution_count": 231,
   "metadata": {},
   "outputs": [
    {
     "data": {
      "text/plain": [
       "(array([[0, 0, 0, ..., 0, 0, 0],\n",
       "        [0, 0, 0, ..., 0, 0, 0],\n",
       "        [0, 0, 1, ..., 0, 0, 0],\n",
       "        ..., \n",
       "        [0, 0, 0, ..., 0, 0, 0],\n",
       "        [0, 0, 0, ..., 0, 0, 0],\n",
       "        [0, 0, 0, ..., 0, 0, 0]]), (16013, 20))"
      ]
     },
     "execution_count": 231,
     "metadata": {},
     "output_type": "execute_result"
    }
   ],
   "source": [
    "y_v_,y_v_.shape"
   ]
  },
  {
   "cell_type": "markdown",
   "metadata": {},
   "source": [
    "*Some [metrics](https://en.wikipedia.org/wiki/Multi-label_classification#Statistics_and_evaluation_metrics):*"
   ]
  },
  {
   "cell_type": "code",
   "execution_count": 232,
   "metadata": {},
   "outputs": [
    {
     "name": "stdout",
     "output_type": "stream",
     "text": [
      "0.584363746123\n"
     ]
    }
   ],
   "source": [
    "print(avg_jacard(y_v_,y_hat))"
   ]
  },
  {
   "cell_type": "code",
   "execution_count": 233,
   "metadata": {},
   "outputs": [
    {
     "name": "stdout",
     "output_type": "stream",
     "text": [
      "0.584363746123\n"
     ]
    }
   ],
   "source": [
    "print(hamming_score(y_v_,y_hat))"
   ]
  },
  {
   "cell_type": "markdown",
   "metadata": {},
   "source": [
    "### Save the model"
   ]
  },
  {
   "cell_type": "code",
   "execution_count": 234,
   "metadata": {},
   "outputs": [],
   "source": [
    "# save model for later use\n",
    "pickle.dump(model, open(pathToIntellDir+'model.pkl','wb'))"
   ]
  }
 ],
 "metadata": {
  "kernelspec": {
   "display_name": "Python 3",
   "language": "python",
   "name": "python3"
  },
  "language_info": {
   "codemirror_mode": {
    "name": "ipython",
    "version": 3
   },
   "file_extension": ".py",
   "mimetype": "text/x-python",
   "name": "python",
   "nbconvert_exporter": "python",
   "pygments_lexer": "ipython3",
   "version": "3.6.4"
  }
 },
 "nbformat": 4,
 "nbformat_minor": 2
}
