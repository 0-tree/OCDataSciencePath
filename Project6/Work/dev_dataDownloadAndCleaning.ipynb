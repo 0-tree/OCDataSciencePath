{
 "cells": [
  {
   "cell_type": "markdown",
   "metadata": {},
   "source": [
    "# [Projet 6: Catégorisez automatiquement des questions](https://openclassrooms.com/fr/projects/categorisez-automatiquement-des-questions)\n",
    "(parcours data: [here](https://openclassrooms.com/paths/63-data-scientist))"
   ]
  },
  {
   "cell_type": "markdown",
   "metadata": {},
   "source": [
    "## Data cleaning"
   ]
  },
  {
   "cell_type": "markdown",
   "metadata": {},
   "source": [
    "Data exporter (StackExchange): [here](https://data.stackexchange.com/stackoverflow/query/new).  \n",
    "My minimal SQL query:\n",
    "```\n",
    "SELECT\n",
    "   Id,Body,Title,Tags\n",
    "FROM\n",
    "   Posts\n",
    "WHERE\n",
    "   Id > 800000 and Id < 1000000 and Body<>'' and Title<>'' and Tags <>''\n",
    "```"
   ]
  },
  {
   "cell_type": "markdown",
   "metadata": {},
   "source": [
    "Resources:\n",
    "- [tutorial on kaggle](https://www.kaggle.com/c/word2vec-nlp-tutorial#part-1-for-beginners-bag-of-words) (I did this basically on my own, but look at the features with scikit-learn section)"
   ]
  },
  {
   "cell_type": "markdown",
   "metadata": {},
   "source": [
    "### Imports"
   ]
  },
  {
   "cell_type": "code",
   "execution_count": 1,
   "metadata": {},
   "outputs": [],
   "source": [
    "import os\n",
    "HOME = os.path.expanduser('~/')\n",
    "HOST = os.uname()[1]\n",
    "if HOST == 'Arthurs-MacBook-Pro.local':\n",
    "    os.chdir(HOME+'Documents/GitHub/OCDataSciencePath/Project6/Work/')    # @home\n",
    "else:\n",
    "    raise ValueError('unknown host: {}'.format(HOST))\n",
    "    \n",
    "import numpy as np\n",
    "import pandas as pd\n",
    "import time\n",
    "from scipy.sparse import hstack\n",
    "import pickle\n",
    "\n",
    "import matplotlib.pyplot as plt\n",
    "%matplotlib inline"
   ]
  },
  {
   "cell_type": "markdown",
   "metadata": {},
   "source": [
    "Some info and uses for [BeautifulSoup](https://pypi.org/project/beautifulsoup4/): [here](https://www.pythonforbeginners.com/beautifulsoup/beautifulsoup-4-python),"
   ]
  },
  {
   "cell_type": "code",
   "execution_count": 2,
   "metadata": {},
   "outputs": [],
   "source": [
    "from bs4 import BeautifulSoup # conda install beautifulsoup4"
   ]
  },
  {
   "cell_type": "markdown",
   "metadata": {},
   "source": [
    "Some info and uses for [NLTK](https://pypi.org/project/nltk/): [here](http://www.nltk.org/book/),"
   ]
  },
  {
   "cell_type": "code",
   "execution_count": 3,
   "metadata": {},
   "outputs": [],
   "source": [
    "import nltk\n",
    "#nltk.download('punkt')"
   ]
  },
  {
   "cell_type": "code",
   "execution_count": 4,
   "metadata": {},
   "outputs": [],
   "source": [
    "from sklearn.feature_extraction.text import CountVectorizer, TfidfTransformer"
   ]
  },
  {
   "cell_type": "code",
   "execution_count": 5,
   "metadata": {},
   "outputs": [],
   "source": [
    "from Pkg.helper import basicHTMLTextCleaner, basicTagTextCleaner, isValidData # needs correct working directory"
   ]
  },
  {
   "cell_type": "markdown",
   "metadata": {},
   "source": [
    "### Data"
   ]
  },
  {
   "cell_type": "code",
   "execution_count": 6,
   "metadata": {},
   "outputs": [],
   "source": [
    "if HOST == 'Arthurs-MacBook-Pro.local':\n",
    "    pathToDataDir = HOME+'Documents/Dropbox/Transit/OCDataScienceData/Project6/Data/'    # @home\n",
    "    pathToIntellDir = HOME+'Documents/Dropbox/Transit/OCDataScienceData/Project6/Intelligence/'    # @home\n",
    "else:\n",
    "    raise ValueError('unknown host: {}'.format(HOST))"
   ]
  },
  {
   "cell_type": "code",
   "execution_count": 7,
   "metadata": {},
   "outputs": [
    {
     "name": "stdout",
     "output_type": "stream",
     "text": [
      "(174696, 3)\n"
     ]
    }
   ],
   "source": [
    "# filename = 'QueryResults_10k.csv'\n",
    "# df = pd.read_csv(pathToDataDir+filename,index_col='Id')\n",
    "\n",
    "first = True\n",
    "for i in range(1,8):\n",
    "# for i in range(1,2):\n",
    "    filename = 'QueryResults-{}.csv'.format(i)\n",
    "    df_ = pd.read_csv(pathToDataDir+filename,index_col='Id')\n",
    "    if first:\n",
    "        df = df_.copy()\n",
    "        first = False\n",
    "    else:\n",
    "        df = df.append(df_)\n",
    "\n",
    "print(df.shape)"
   ]
  },
  {
   "cell_type": "code",
   "execution_count": 8,
   "metadata": {},
   "outputs": [],
   "source": [
    "np.random.seed(8)"
   ]
  },
  {
   "cell_type": "code",
   "execution_count": 9,
   "metadata": {},
   "outputs": [],
   "source": [
    "n,p = df.shape\n",
    "k = .8\n",
    "idx_train = np.random.choice((True,False),n,p=(k,1-k))\n",
    "df_train,df_test = df.iloc[idx_train,:].copy(),df.iloc[~idx_train,:].copy()"
   ]
  },
  {
   "cell_type": "code",
   "execution_count": 10,
   "metadata": {},
   "outputs": [
    {
     "name": "stdout",
     "output_type": "stream",
     "text": [
      "(140106, 3) (34590, 3)\n"
     ]
    },
    {
     "data": {
      "text/html": [
       "<div>\n",
       "<style scoped>\n",
       "    .dataframe tbody tr th:only-of-type {\n",
       "        vertical-align: middle;\n",
       "    }\n",
       "\n",
       "    .dataframe tbody tr th {\n",
       "        vertical-align: top;\n",
       "    }\n",
       "\n",
       "    .dataframe thead th {\n",
       "        text-align: right;\n",
       "    }\n",
       "</style>\n",
       "<table border=\"1\" class=\"dataframe\">\n",
       "  <thead>\n",
       "    <tr style=\"text-align: right;\">\n",
       "      <th></th>\n",
       "      <th>Body</th>\n",
       "      <th>Title</th>\n",
       "      <th>Tags</th>\n",
       "    </tr>\n",
       "    <tr>\n",
       "      <th>Id</th>\n",
       "      <th></th>\n",
       "      <th></th>\n",
       "      <th></th>\n",
       "    </tr>\n",
       "  </thead>\n",
       "  <tbody>\n",
       "    <tr>\n",
       "      <th>696573</th>\n",
       "      <td>&lt;p&gt;I have a function getSlope which takes as p...</td>\n",
       "      <td>Unexpected loss of precision when dividing dou...</td>\n",
       "      <td>&lt;c++&gt;&lt;double&gt;&lt;precision&gt;</td>\n",
       "    </tr>\n",
       "    <tr>\n",
       "      <th>46354</th>\n",
       "      <td>&lt;p&gt;I'm trying to perform a SQL query through a...</td>\n",
       "      <td>\"Invalid column name\" error on SQL statement f...</td>\n",
       "      <td>&lt;sql&gt;&lt;sql-server&gt;</td>\n",
       "    </tr>\n",
       "    <tr>\n",
       "      <th>607250</th>\n",
       "      <td>&lt;p&gt;I have a generic type that is parameterized...</td>\n",
       "      <td>How do I get the type object of a genericized ...</td>\n",
       "      <td>&lt;java&gt;&lt;generics&gt;</td>\n",
       "    </tr>\n",
       "    <tr>\n",
       "      <th>902017</th>\n",
       "      <td>&lt;p&gt;I saw a program(RAPGET) which downloads a f...</td>\n",
       "      <td>Data from web-page to a text box in application?</td>\n",
       "      <td>&lt;vb6&gt;</td>\n",
       "    </tr>\n",
       "    <tr>\n",
       "      <th>399538</th>\n",
       "      <td>&lt;p&gt;I'm building a C++ application and need to ...</td>\n",
       "      <td>How do I link PDCurses to a C++ application on...</td>\n",
       "      <td>&lt;c++&gt;&lt;windows&gt;&lt;linker&gt;&lt;ncurses&gt;&lt;pdcurses&gt;</td>\n",
       "    </tr>\n",
       "  </tbody>\n",
       "</table>\n",
       "</div>"
      ],
      "text/plain": [
       "                                                     Body  \\\n",
       "Id                                                          \n",
       "696573  <p>I have a function getSlope which takes as p...   \n",
       "46354   <p>I'm trying to perform a SQL query through a...   \n",
       "607250  <p>I have a generic type that is parameterized...   \n",
       "902017  <p>I saw a program(RAPGET) which downloads a f...   \n",
       "399538  <p>I'm building a C++ application and need to ...   \n",
       "\n",
       "                                                    Title  \\\n",
       "Id                                                          \n",
       "696573  Unexpected loss of precision when dividing dou...   \n",
       "46354   \"Invalid column name\" error on SQL statement f...   \n",
       "607250  How do I get the type object of a genericized ...   \n",
       "902017   Data from web-page to a text box in application?   \n",
       "399538  How do I link PDCurses to a C++ application on...   \n",
       "\n",
       "                                             Tags  \n",
       "Id                                                 \n",
       "696573                   <c++><double><precision>  \n",
       "46354                           <sql><sql-server>  \n",
       "607250                           <java><generics>  \n",
       "902017                                      <vb6>  \n",
       "399538  <c++><windows><linker><ncurses><pdcurses>  "
      ]
     },
     "execution_count": 10,
     "metadata": {},
     "output_type": "execute_result"
    }
   ],
   "source": [
    "print(df_train.shape,df_test.shape)\n",
    "df_train.sample(5)"
   ]
  },
  {
   "cell_type": "markdown",
   "metadata": {},
   "source": [
    "### Basic text cleaning"
   ]
  },
  {
   "cell_type": "code",
   "execution_count": 11,
   "metadata": {},
   "outputs": [],
   "source": [
    "def applyCleaner(df,tokenizer,stopwords,stemer):\n",
    "    '''\n",
    "    applies the cleaner to a pd.DataFrame. See called functions for help.\n",
    "    '''\n",
    "    for c in ('Body','Title'):\n",
    "        df[c+'_clean'] = df[c].apply(lambda x: basicHTMLTextCleaner(x,tokenizer,stopwords,stemer))\n",
    "    for c in ('Tags',):\n",
    "        df[c+'_clean'] = df[c].apply(lambda x: basicTagTextCleaner(x))\n",
    "        \n",
    "    return df"
   ]
  },
  {
   "cell_type": "code",
   "execution_count": 12,
   "metadata": {},
   "outputs": [],
   "source": [
    "# define the potential tokens (to be used with RegexpTokenizer(gaps=False))\n",
    "rex = ''\n",
    "rex += '\\.?'          # token can start by a dot\n",
    "rex += '[a-zA-Z]+'    # then a word in letters\n",
    "rex += '[0-9#+]*'     # then potentially numbers or some symbols"
   ]
  },
  {
   "cell_type": "code",
   "execution_count": 13,
   "metadata": {},
   "outputs": [
    {
     "name": "stdout",
     "output_type": "stream",
     "text": [
      "done: took 651.01s\n"
     ]
    }
   ],
   "source": [
    "stopwords = set(nltk.corpus.stopwords.words('english'))\n",
    "tokenizer = nltk.tokenize.RegexpTokenizer(rex,gaps=False)\n",
    "stemer = nltk.PorterStemmer()\n",
    "\n",
    "tic = time.time()\n",
    "df_train = applyCleaner(df_train,tokenizer,stopwords,stemer)\n",
    "df_test = applyCleaner(df_test,tokenizer,stopwords,stemer)\n",
    "print('done: took {}s'.format(np.round(time.time()-tic,2)))"
   ]
  },
  {
   "cell_type": "code",
   "execution_count": 14,
   "metadata": {},
   "outputs": [],
   "source": [
    "# save transformers for later\n",
    "pickle.dump(stopwords, open(pathToIntellDir+'stopwords.pkl','wb'))\n",
    "pickle.dump(tokenizer, open(pathToIntellDir+'tokenizer.pkl','wb'))\n",
    "pickle.dump(stemer, open(pathToIntellDir+'stemer.pkl','wb'))"
   ]
  },
  {
   "cell_type": "code",
   "execution_count": 15,
   "metadata": {},
   "outputs": [
    {
     "data": {
      "text/html": [
       "<div>\n",
       "<style scoped>\n",
       "    .dataframe tbody tr th:only-of-type {\n",
       "        vertical-align: middle;\n",
       "    }\n",
       "\n",
       "    .dataframe tbody tr th {\n",
       "        vertical-align: top;\n",
       "    }\n",
       "\n",
       "    .dataframe thead th {\n",
       "        text-align: right;\n",
       "    }\n",
       "</style>\n",
       "<table border=\"1\" class=\"dataframe\">\n",
       "  <thead>\n",
       "    <tr style=\"text-align: right;\">\n",
       "      <th></th>\n",
       "      <th>Body</th>\n",
       "      <th>Title</th>\n",
       "      <th>Tags</th>\n",
       "      <th>Body_clean</th>\n",
       "      <th>Title_clean</th>\n",
       "      <th>Tags_clean</th>\n",
       "    </tr>\n",
       "    <tr>\n",
       "      <th>Id</th>\n",
       "      <th></th>\n",
       "      <th></th>\n",
       "      <th></th>\n",
       "      <th></th>\n",
       "      <th></th>\n",
       "      <th></th>\n",
       "    </tr>\n",
       "  </thead>\n",
       "  <tbody>\n",
       "    <tr>\n",
       "      <th>598041</th>\n",
       "      <td>&lt;p&gt;I have a stored procedure that returns a la...</td>\n",
       "      <td>Querying results of a stored procedure</td>\n",
       "      <td>&lt;sql&gt;&lt;stored-procedures&gt;&lt;sybase&gt;</td>\n",
       "      <td>store procedur return larg number result would...</td>\n",
       "      <td>queri result store procedur</td>\n",
       "      <td>&lt;sql&gt;&lt;stored-procedures&gt;&lt;sybase&gt;</td>\n",
       "    </tr>\n",
       "    <tr>\n",
       "      <th>791030</th>\n",
       "      <td>&lt;p&gt;Say my database tables have columns like &lt;c...</td>\n",
       "      <td>Should I store Enum ID/values in the database ...</td>\n",
       "      <td>&lt;c#&gt;&lt;database&gt;&lt;enums&gt;&lt;constants&gt;</td>\n",
       "      <td>say databas tabl column like usertyp salestyp ...</td>\n",
       "      <td>store enum id valu databas c# enumer</td>\n",
       "      <td>&lt;c#&gt;&lt;database&gt;&lt;enums&gt;&lt;constants&gt;</td>\n",
       "    </tr>\n",
       "    <tr>\n",
       "      <th>577209</th>\n",
       "      <td>&lt;p&gt;I was creating a table in SQL Server CE and...</td>\n",
       "      <td>Why doesn't SQL Server CE support varchar?</td>\n",
       "      <td>&lt;sql-server-ce&gt;</td>\n",
       "      <td>creat tabl sql server ce realiz support varcha...</td>\n",
       "      <td>sql server ce support varchar</td>\n",
       "      <td>&lt;sql-server-ce&gt;</td>\n",
       "    </tr>\n",
       "    <tr>\n",
       "      <th>929495</th>\n",
       "      <td>&lt;p&gt;I'm using the Code::Blocks IDE with GCC/Min...</td>\n",
       "      <td>Why is MinGW very slow?</td>\n",
       "      <td>&lt;c++&gt;&lt;performance&gt;&lt;mingw&gt;&lt;codeblocks&gt;</td>\n",
       "      <td>use code block ide gcc mingw window tri build ...</td>\n",
       "      <td>mingw slow</td>\n",
       "      <td>&lt;c++&gt;&lt;performance&gt;&lt;mingw&gt;&lt;codeblocks&gt;</td>\n",
       "    </tr>\n",
       "    <tr>\n",
       "      <th>593905</th>\n",
       "      <td>&lt;p&gt;Could anybody help me to rename database in...</td>\n",
       "      <td>rename database in psql</td>\n",
       "      <td>&lt;postgresql&gt;</td>\n",
       "      <td>could anybodi help renam databas postgresql li...</td>\n",
       "      <td>renam databas psql</td>\n",
       "      <td>&lt;postgresql&gt;</td>\n",
       "    </tr>\n",
       "  </tbody>\n",
       "</table>\n",
       "</div>"
      ],
      "text/plain": [
       "                                                     Body  \\\n",
       "Id                                                          \n",
       "598041  <p>I have a stored procedure that returns a la...   \n",
       "791030  <p>Say my database tables have columns like <c...   \n",
       "577209  <p>I was creating a table in SQL Server CE and...   \n",
       "929495  <p>I'm using the Code::Blocks IDE with GCC/Min...   \n",
       "593905  <p>Could anybody help me to rename database in...   \n",
       "\n",
       "                                                    Title  \\\n",
       "Id                                                          \n",
       "598041             Querying results of a stored procedure   \n",
       "791030  Should I store Enum ID/values in the database ...   \n",
       "577209         Why doesn't SQL Server CE support varchar?   \n",
       "929495                            Why is MinGW very slow?   \n",
       "593905                            rename database in psql   \n",
       "\n",
       "                                         Tags  \\\n",
       "Id                                              \n",
       "598041       <sql><stored-procedures><sybase>   \n",
       "791030       <c#><database><enums><constants>   \n",
       "577209                        <sql-server-ce>   \n",
       "929495  <c++><performance><mingw><codeblocks>   \n",
       "593905                           <postgresql>   \n",
       "\n",
       "                                               Body_clean  \\\n",
       "Id                                                          \n",
       "598041  store procedur return larg number result would...   \n",
       "791030  say databas tabl column like usertyp salestyp ...   \n",
       "577209  creat tabl sql server ce realiz support varcha...   \n",
       "929495  use code block ide gcc mingw window tri build ...   \n",
       "593905  could anybodi help renam databas postgresql li...   \n",
       "\n",
       "                                 Title_clean  \\\n",
       "Id                                             \n",
       "598041           queri result store procedur   \n",
       "791030  store enum id valu databas c# enumer   \n",
       "577209         sql server ce support varchar   \n",
       "929495                            mingw slow   \n",
       "593905                    renam databas psql   \n",
       "\n",
       "                                   Tags_clean  \n",
       "Id                                             \n",
       "598041       <sql><stored-procedures><sybase>  \n",
       "791030       <c#><database><enums><constants>  \n",
       "577209                        <sql-server-ce>  \n",
       "929495  <c++><performance><mingw><codeblocks>  \n",
       "593905                           <postgresql>  "
      ]
     },
     "execution_count": 15,
     "metadata": {},
     "output_type": "execute_result"
    }
   ],
   "source": [
    "df_train.sample(5)"
   ]
  },
  {
   "cell_type": "markdown",
   "metadata": {},
   "source": [
    "### Vectorization\n",
    "\n",
    "Resources\n",
    "- [scikit tutorial](http://scikit-learn.org/stable/tutorial/text_analytics/working_with_text_data.html) (also used in this [kaggle example](https://www.kaggle.com/c/word2vec-nlp-tutorial#part-1-for-beginners-bag-of-words))"
   ]
  },
  {
   "cell_type": "markdown",
   "metadata": {},
   "source": [
    "*Input texts:*"
   ]
  },
  {
   "cell_type": "code",
   "execution_count": 16,
   "metadata": {},
   "outputs": [],
   "source": [
    "# count occurences (beware to fit the dictionary only on train data!)\n",
    "# NB: deal with tags separately, as they basically need one-hot encoding\n",
    "max_df = .3 # should be possible to push up to .1 given the low frequencies of the tags...\n",
    "min_df = .01\n",
    "\n",
    "V_body = 500 # 100 # 20 # 500\n",
    "count_body = CountVectorizer(analyzer = 'word',   # entities to be counted\n",
    "                             strip_accents = None,\n",
    "                             preprocessor = None, # because we did it ourselves\n",
    "                             lowercase = False,   # because we did it ourselves\n",
    "                             stop_words = None,   # because we did it ourselves\n",
    "                             tokenizer = None,    # because we did it ourselves\n",
    "                             token_pattern = rex, # must rewrite the tokens!\n",
    "                             max_df = max_df,     # perform additional stopword trimming \n",
    "                             min_df = min_df,     # drop too rare terms\n",
    "                             max_features = V_body) \n",
    "\n",
    "count_body.fit(df_train['Body_clean'])\n",
    "\n",
    "V_title = 100 # 20 # 5 # 100\n",
    "count_title = CountVectorizer(analyzer = 'word',   # entities to be counted\n",
    "                              strip_accents = None,\n",
    "                              preprocessor = None, # because we did it ourselves\n",
    "                              lowercase = False,   # because we did it ourselves\n",
    "                              stop_words = None,   # because we did it ourselves\n",
    "                              tokenizer = None,    # because we did it ourselves\n",
    "                              token_pattern = rex, # must rewrite the tokens!\n",
    "                              max_df = max_df,     # perform additional stopword trimming \n",
    "                              min_df = min_df,     # drop too rare terms\n",
    "                              max_features = V_title) \n",
    "\n",
    "count_title.fit(df_train['Title_clean'])\n",
    "\n",
    "# transform to vectors using the fitted dictionaries\n",
    "body_train = count_body.transform(df_train['Body_clean'])\n",
    "title_train = count_title.transform(df_train['Title_clean'])\n",
    "\n",
    "body_test = count_body.transform(df_test['Body_clean'])\n",
    "title_test = count_title.transform(df_test['Title_clean'])"
   ]
  },
  {
   "cell_type": "code",
   "execution_count": 17,
   "metadata": {},
   "outputs": [
    {
     "name": "stdout",
     "output_type": "stream",
     "text": [
      "\n",
      "vocab for body (length 500): dict_keys(['given', 'specif', 'valu', 'display', 'time', 'day', 'standard', 'way', 'web', 'server', 'abl', 'user', 'within', 'page', 'http', 'header', 'part', 'string', 'differ', '.net', 'queri', 'servic', 'return', 'type', 'via', 'public', 'static', 'db', 'new', 'execut', 'var', 'select', 'copi', 'work', 'get', 'result', 'set', 'store', 'data', 'mysql', 'look', 'person', 'defin', 'code', 'number', 'program', 'test', 'know', 'assembl', 'version', 'option', 'though', 'includ', 'specifi', 'main', 'x', 'e', 'f', 'n', 'doubl', 'int', 'case', 'catch', 'would', 'actual', 'start', 'stuff', 'system', 'build', 'script', 'configur', 'c', 'compil', 'bit', 'also', 'tri', 'order', 'around', 'still', 'come', 'top', 'everi', 'updat', 'tabl', 'throw', 'error', 'issu', 'api', 'c++', 'tell', 'miss', 'someth', 'relat', 'make', 'problem', 'much', 'idea', 'could', 'give', 'app', 'link', 'output', 'line', 'name', 'find', 'declar', 'fail', 'file', 'object', 'creat', 'check', 'need', 'far', 'block', 'statement', 'howev', 'contain', 'follow', 'basic', 'sure', 'memori', 'first', 'non', 'solut', 'second', 'null', 'sql', 'databas', 'chang', 'without', 'modifi', 'structur', 'prefer', 'environ', 'c#', 'support', 'applic', 'visual', 'anoth', 'product', 'custom', 'base', 'want', 'put', 'requir', 'instal', 'mean', 'event', 'instead', 'best', 'action', 'schema', 'seem', 'function', 'implement', 'run', 'sampl', 'go', 'row', 'id', 'see', 'class', 'framework', 'librari', 'thread', 'control', 'alway', 'complet', 'parent', 'consol', 'anyth', 'close', 'ad', 'true', 'loop', 'php', 'peopl', 'plugin', 'interfac', 'one', 'write', 'let', 'say', 'html', 'form', 'button', 'back', 'sinc', 'appear', 'enter', 'exampl', 'field', 'input', 'text', 'next', 'move', 'column', 'gener', 'collect', 'count', 'format', 'exist', 'comment', 'view', 'resourc', 'current', 'avail', 'automat', 'manag', 'websit', 'site', 'search', 'found', 'detail', 'anyon', 'question', 'hope', 'ok', 'experi', 'practic', 'lot', 'point', 'good', 'perform', 'featur', 'small', 'origin', 'written', 'linux', 'well', 'process', 'larg', 'integ', 'machin', 'variabl', 'certain', 'fine', 'client', 'even', 'access', 'com', 'p', 'window', 'quit', 'littl', 'sourc', 'caus', 'happen', 'softwar', 'suggest', 'develop', 'studio', 'thing', 'similar', 'normal', 'screen', 'mayb', 'fix', 'asp', 'map', 'provid', 'default', 'xml', 'menu', 'dynam', 'correct', 'properti', 'method', 'java', 'edit', 'assum', 'privat', 'learn', 'singl', 'never', 'may', 'fals', 'answer', 'probabl', 'head', 'call', 'valid', 'better', 'tool', 'connect', 'procedur', 'etc', 'mani', 'long', 'keep', 'key', 'initi', 'pretti', 'inform', 'note', 'setup', 'two', 'except', 'refer', 'remov', 'match', 'folder', 'handl', 'might', 'stack', 'project', 'cannot', 'sort', 'browser', 'done', 'end', 'either', 'local', 'download', 'multipl', 'host', 'separ', 'log', 'locat', 'solv', 'color', 'possibl', 'paramet', 'approach', 'take', 'pars', 'charact', 'last', 'path', 'document', 'allow', 'import', 'packag', 'success', 'index', 'sever', 'join', 'login', 'report', 'expect', 'kind', 'array', 'root', 'tag', 'googl', 'click', 'email', 'languag', 'add', 'deploy', 'insid', 'char', 'delet', 'messag', 'els', 'info', 'titl', 'respons', 'break', 'wrong', 'level', 'reason', 'content', 'read', 'size', 'someon', 'simpl', 'record', 'directori', 'task', 'word', 'session', 'secur', 'place', 'encod', 'think', 'realli', 'must', '.e', 'send', 'wonder', 'consid', 'figur', 'list', 'interest', 'mode', 'posit', 'load', 'dll', 'noth', 'ie', 'command', 'box', 'filter', 'date', 'javascript', 'python', 'seen', 'item', 'everyth', 'pass', 'rubi', 'activ', 'request', 'made', 'open', 'password', 'usernam', 'url', 'pleas', 'help', 'post', 'express', 'target', 'alreadi', 'rather', 'address', 'easi', 'show', 'appreci', 'print', 'insert', 'got', 'releas', 'domain', 'ask', 'thank', 'debug', 'foo', 'attribut', 'unit', 'limit', 'argument', 'group', 'model', 'member', '.g', 'share', 'account', 'comput', 'b', 'understand', 'element', 'pointer', 'entri', 'design', 'thought', 'style', 'css', 'div', 'width', 'save', 'side', 'render', 'instanc', 'microsoft', 'replac', 'oper', 'compon', 'tab', 'right', 'space', 'void', 'node', '.com', 'www', 'bar', 'final', 'step', '.php', 'background', 'left', 'ajax', 'state', 'depend', 'templat', 'imag', 'mvc', 'namespac', 'bind', 'convert', 'pattern', 'r', 'label', 'bodi', '.add', 'grid', 'byte', 'self', 'jqueri', 'context', 'receiv', 'advanc', 'src', 'modul', 'cach', 'height', 'sub', 'entiti', '.text'])\n",
      "\n",
      "vocab for title (length 97): dict_keys(['time', 'c#', 'user', 'differ', 'linq', 'queri', 'set', 'data', 'mysql', 'way', 'get', 'valu', 'error', 'use', 'c', 'c++', 'chang', 'sql', 'server', 'tabl', 'applic', 'best', 'php', 'multipl', 'html', 'form', 'list', 'name', 'page', 'add', 'work', 'file', 'databas', 'window', 'asp', '.net', 'access', 'object', 'properti', 'method', 'number', 'web', 'function', 'creat', 'gener', 'array', 'program', 'implement', 'control', 'system', 'class', 'one', 'make', 'type', 'java', 'iphon', 'app', 'find', 'servic', 'call', 'python', 'test', 'code', 'column', 'updat', 'run', 'framework', 'view', 'string', 'visual', 'studio', 'project', 'xml', 'text', 'return', 'custom', 'vs', 'select', 'imag', 'javascript', 'mvc', 'without', 'store', 'develop', 'good', 'librari', 'design', 'convert', 'possibl', 'dynam', 'event', 'element', 'load', 'variabl', 'wpf', 'problem', 'jqueri'])\n"
     ]
    }
   ],
   "source": [
    "print('\\nvocab for body (length {}): {}'.format(len(count_body.vocabulary_),count_body.vocabulary_.keys()))\n",
    "print('\\nvocab for title (length {}): {}'.format(len(count_title.vocabulary_),count_title.vocabulary_.keys()))"
   ]
  },
  {
   "cell_type": "code",
   "execution_count": 18,
   "metadata": {},
   "outputs": [],
   "source": [
    "# use TF-IDF (beware to fit the IDF with train data!)\n",
    "tfidf_body = TfidfTransformer(use_idf=True).fit(body_train)\n",
    "tfidf_title = TfidfTransformer(use_idf=True).fit(title_train)\n",
    "\n",
    "# transform using the fitted IDF\n",
    "body2_train = tfidf_body.transform(body_train)\n",
    "title2_train = tfidf_title.transform(title_train)\n",
    "\n",
    "body2_test = tfidf_body.transform(body_test)\n",
    "title2_test = tfidf_title.transform(title_test)"
   ]
  },
  {
   "cell_type": "code",
   "execution_count": 19,
   "metadata": {},
   "outputs": [],
   "source": [
    "# save transformers for later use\n",
    "pickle.dump(count_body, open(pathToIntellDir+'count_body.pkl','wb'))\n",
    "pickle.dump(count_title, open(pathToIntellDir+'count_title.pkl','wb'))\n",
    "\n",
    "pickle.dump(tfidf_body, open(pathToIntellDir+'tfidf_body.pkl','wb'))\n",
    "pickle.dump(tfidf_title, open(pathToIntellDir+'tfidf_title.pkl','wb'))"
   ]
  },
  {
   "cell_type": "code",
   "execution_count": 20,
   "metadata": {},
   "outputs": [
    {
     "data": {
      "text/plain": [
       "<1x500 sparse matrix of type '<class 'numpy.float64'>'\n",
       "\twith 6 stored elements in Compressed Sparse Row format>"
      ]
     },
     "execution_count": 20,
     "metadata": {},
     "output_type": "execute_result"
    }
   ],
   "source": [
    "body2_train[0,:]"
   ]
  },
  {
   "cell_type": "code",
   "execution_count": 21,
   "metadata": {},
   "outputs": [
    {
     "data": {
      "text/plain": [
       "<1x97 sparse matrix of type '<class 'numpy.float64'>'\n",
       "\twith 2 stored elements in Compressed Sparse Row format>"
      ]
     },
     "execution_count": 21,
     "metadata": {},
     "output_type": "execute_result"
    }
   ],
   "source": [
    "title2_train[0,:]"
   ]
  },
  {
   "cell_type": "markdown",
   "metadata": {},
   "source": [
    "*Target tags:*"
   ]
  },
  {
   "cell_type": "code",
   "execution_count": 32,
   "metadata": {},
   "outputs": [
    {
     "data": {
      "text/plain": [
       "<matplotlib.axes._subplots.AxesSubplot at 0x11b5262b0>"
      ]
     },
     "execution_count": 32,
     "metadata": {},
     "output_type": "execute_result"
    },
    {
     "data": {
      "image/png": "[encoded data removed]",
      "text/plain": [
       "<matplotlib.figure.Figure at 0x1a1e166cc0>"
      ]
     },
     "metadata": {},
     "output_type": "display_data"
    }
   ],
   "source": [
    "# analysis of the tags (NB: here we only 'multiplly'-one-hot encode: there is no need to compute TF-IDF!)\n",
    "\n",
    "# count occurences\n",
    "min_df_tag = .01 # we will only deal with not too rare tags\n",
    "\n",
    "count_tag = CountVectorizer(analyzer = \"word\",   # entities to be counted\n",
    "                            strip_accents = None,\n",
    "                            preprocessor = None, # because we did it ourselves\n",
    "                            lowercase = False,   # because we did it ourselves\n",
    "                            stop_words = None,   # because we did it ourselves\n",
    "                            tokenizer = None,    # because we did it ourselves\n",
    "                            token_pattern = '<[^[<>]*>', # specific token for these tags\n",
    "                            min_df = min_df_tag) \n",
    "\n",
    "count_tag.fit(df_train['Tags_clean'])\n",
    "\n",
    "# transform\n",
    "tag_train = count_tag.transform(df_train['Tags_clean'])\n",
    "tag_test = count_tag.transform(df_test['Tags_clean'])\n",
    "\n",
    "# plot number of questions per tag\n",
    "tagCount = pd.DataFrame(index=['count'])\n",
    "tagCount['all questions'] = tag_train.shape[0]\n",
    "for t,i in count_tag.vocabulary_.items():\n",
    "    tagCount[t] = tag_train[:,i].sum()\n",
    "tagCount = tagCount.transpose()\n",
    "tagCount = tagCount.sort_values(by='count',ascending=True)\n",
    "tagCount.plot(kind='barh',figsize=(20,10))"
   ]
  },
  {
   "cell_type": "code",
   "execution_count": 33,
   "metadata": {},
   "outputs": [
    {
     "name": "stdout",
     "output_type": "stream",
     "text": [
      "\n",
      "vocab for tags (length 37): dict_keys(['<c#>', '<javascript>', '<html>', '<.net>', '<linq>', '<web-services>', '<mysql>', '<database>', '<performance>', '<c++>', '<c>', '<sql>', '<sql-server>', '<vb.net>', '<php>', '<ruby>', '<svn>', '<linux>', '<windows>', '<asp.net>', '<xml>', '<java>', '<sql-server-2005>', '<objective-c>', '<ruby-on-rails>', '<python>', '<winforms>', '<visual-studio>', '<css>', '<regex>', '<multithreading>', '<ajax>', '<wpf>', '<iphone>', '<asp.net-mvc>', '<visual-studio-2008>', '<jquery>'])\n"
     ]
    }
   ],
   "source": [
    "print('\\nvocab for tags (length {}): {}'.format(len(count_tag.vocabulary_),count_tag.vocabulary_.keys()))"
   ]
  },
  {
   "cell_type": "code",
   "execution_count": 34,
   "metadata": {},
   "outputs": [],
   "source": [
    "# save transofrmer for later use\n",
    "pickle.dump(count_tag, open(pathToIntellDir+'count_tag.pkl','wb'))"
   ]
  },
  {
   "cell_type": "code",
   "execution_count": 35,
   "metadata": {},
   "outputs": [
    {
     "data": {
      "text/plain": [
       "array([[0, 0, 0, 0, 1, 0, 0, 0, 0, 0, 0, 0, 0, 0, 0, 0, 0, 0, 0, 0, 0, 0,\n",
       "        0, 0, 0, 0, 0, 0, 0, 0, 0, 0, 0, 0, 0, 0, 0]])"
      ]
     },
     "execution_count": 35,
     "metadata": {},
     "output_type": "execute_result"
    }
   ],
   "source": [
    "tag_train[0,:].toarray()"
   ]
  },
  {
   "cell_type": "markdown",
   "metadata": {},
   "source": [
    "*Merge together:*"
   ]
  },
  {
   "cell_type": "code",
   "execution_count": 36,
   "metadata": {},
   "outputs": [],
   "source": [
    "x_train = hstack((body2_train,title2_train)) # need hstack because we work on sparse matrices...\n",
    "x_test = hstack((body2_test,title2_test))\n",
    "\n",
    "y_train = tag_train\n",
    "y_test = tag_test"
   ]
  },
  {
   "cell_type": "markdown",
   "metadata": {},
   "source": [
    "*Handle cases when some rows do not have selected words/tags...*"
   ]
  },
  {
   "cell_type": "code",
   "execution_count": 37,
   "metadata": {},
   "outputs": [],
   "source": [
    "# SEE HOW TO AVOID THAT: go back to full matrices for subscripting, export...\n",
    "x_train = x_train.toarray()\n",
    "x_test = x_test.toarray()\n",
    "\n",
    "y_train = y_train.toarray()\n",
    "y_test = y_test.toarray()"
   ]
  },
  {
   "cell_type": "code",
   "execution_count": 38,
   "metadata": {},
   "outputs": [
    {
     "name": "stdout",
     "output_type": "stream",
     "text": [
      "0.641057485047\n",
      "0.64885805146\n"
     ]
    }
   ],
   "source": [
    "isValid_train = isValidData(x_train,y_train,V_body)\n",
    "isValid_test = isValidData(x_test,y_test,V_body)\n",
    "\n",
    "print(np.array(isValid_train).mean())\n",
    "print(np.array(isValid_test).mean())\n",
    "\n",
    "x_train,y_train = x_train[isValid_train,:],y_train[isValid_train,:]\n",
    "x_test,y_test = x_test[isValid_test,:],y_test[isValid_test,:]"
   ]
  },
  {
   "cell_type": "code",
   "execution_count": 39,
   "metadata": {},
   "outputs": [
    {
     "name": "stdout",
     "output_type": "stream",
     "text": [
      "(89816, 597) (89816, 37)\n",
      "(22444, 597) (22444, 37)\n"
     ]
    }
   ],
   "source": [
    "print(x_train.shape,y_train.shape)\n",
    "print(x_test.shape,y_test.shape)"
   ]
  },
  {
   "cell_type": "markdown",
   "metadata": {},
   "source": [
    "### Cleaned data"
   ]
  },
  {
   "cell_type": "code",
   "execution_count": 40,
   "metadata": {},
   "outputs": [],
   "source": [
    "name,ext = os.path.splitext(filename)\n",
    "\n",
    "#c = ('Body_clean','Title_clean','Tags_clean')\n",
    "#df.loc[:,c].to_csv(os.path.join(pathToDataDir,name+'_clean'+ext),index=True)\n",
    "\n",
    "np.savez(os.path.join(pathToDataDir,name+'_forLearning'), *[x_train,\n",
    "                                                            x_test,\n",
    "                                                            y_train,\n",
    "                                                            y_test])"
   ]
  },
  {
   "cell_type": "code",
   "execution_count": null,
   "metadata": {},
   "outputs": [],
   "source": []
  }
 ],
 "metadata": {
  "kernelspec": {
   "display_name": "Python 3",
   "language": "python",
   "name": "python3"
  },
  "language_info": {
   "codemirror_mode": {
    "name": "ipython",
    "version": 3
   },
   "file_extension": ".py",
   "mimetype": "text/x-python",
   "name": "python",
   "nbconvert_exporter": "python",
   "pygments_lexer": "ipython3",
   "version": "3.6.4"
  }
 },
 "nbformat": 4,
 "nbformat_minor": 2
}
