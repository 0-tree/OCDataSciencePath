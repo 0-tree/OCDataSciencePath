{
 "cells": [
  {
   "cell_type": "markdown",
   "metadata": {},
   "source": [
    "# [Projet 6: Catégorisez automatiquement des questions](https://openclassrooms.com/fr/projects/categorisez-automatiquement-des-questions)\n",
    "(parcours data: [here](https://openclassrooms.com/paths/63-data-scientist))"
   ]
  },
  {
   "cell_type": "markdown",
   "metadata": {},
   "source": [
    "Data exporter (StackExchange): [here](https://data.stackexchange.com/stackoverflow/query/new).  \n",
    "My minimal SQL query:\n",
    "```\n",
    "SELECT\n",
    "   Id,Body,Title,Tags\n",
    "FROM\n",
    "   Posts\n",
    "WHERE\n",
    "   Id < 5000 and Body<>'' and Title<>'' and Tags <>''\n",
    "```"
   ]
  },
  {
   "cell_type": "markdown",
   "metadata": {},
   "source": [
    "### Imports"
   ]
  },
  {
   "cell_type": "code",
   "execution_count": 1,
   "metadata": {},
   "outputs": [],
   "source": [
    "import os\n",
    "HOME = os.path.expanduser('~/')\n",
    "HOST = os.uname()[1]\n",
    "if HOST == 'Arthurs-MacBook-Pro.local':\n",
    "    os.chdir(HOME+'Documents/GitHub/OCDataSciencePath/Project6/')    # @home\n",
    "else:\n",
    "    raise ValueError('unknown host: {}'.format(HOST))\n",
    "    \n",
    "import numpy as np\n",
    "import pandas as pd\n",
    "\n",
    "import matplotlib.pyplot as plt\n",
    "%matplotlib inline"
   ]
  },
  {
   "cell_type": "markdown",
   "metadata": {},
   "source": [
    "Some info and uses for [BeautifulSoup](https://pypi.org/project/beautifulsoup4/): [here](https://www.pythonforbeginners.com/beautifulsoup/beautifulsoup-4-python),"
   ]
  },
  {
   "cell_type": "code",
   "execution_count": 2,
   "metadata": {},
   "outputs": [],
   "source": [
    "from bs4 import BeautifulSoup # conda install beautifulsoup4"
   ]
  },
  {
   "cell_type": "markdown",
   "metadata": {},
   "source": [
    "Some info and uses for [NLTK](https://pypi.org/project/nltk/): [here](http://www.nltk.org/book/),"
   ]
  },
  {
   "cell_type": "code",
   "execution_count": 3,
   "metadata": {},
   "outputs": [],
   "source": [
    "import nltk\n",
    "stopwords = nltk.corpus.stopwords.words('english')\n",
    "tokenizer = nltk.tokenize.RegexpTokenizer(r'\\w+')\n",
    "stemer = nltk.PorterStemmer() # factorise this\n",
    "#nltk.download('punkt')"
   ]
  },
  {
   "cell_type": "markdown",
   "metadata": {},
   "source": [
    "### Data"
   ]
  },
  {
   "cell_type": "code",
   "execution_count": 4,
   "metadata": {},
   "outputs": [],
   "source": [
    "if HOST == 'Arthurs-MacBook-Pro.local':\n",
    "    pathToDataDir = HOME+'Documents/Dropbox/Transit/OCDataScienceData/Project6/'    # @home\n",
    "else:\n",
    "    raise ValueError('unknown host: {}'.format(HOST))"
   ]
  },
  {
   "cell_type": "code",
   "execution_count": 5,
   "metadata": {},
   "outputs": [],
   "source": [
    "filename = 'QueryResults_light.csv'\n",
    "df = pd.read_csv(pathToDataDir+filename,index_col='Id')"
   ]
  },
  {
   "cell_type": "code",
   "execution_count": 6,
   "metadata": {},
   "outputs": [
    {
     "data": {
      "text/html": [
       "<div>\n",
       "<style scoped>\n",
       "    .dataframe tbody tr th:only-of-type {\n",
       "        vertical-align: middle;\n",
       "    }\n",
       "\n",
       "    .dataframe tbody tr th {\n",
       "        vertical-align: top;\n",
       "    }\n",
       "\n",
       "    .dataframe thead th {\n",
       "        text-align: right;\n",
       "    }\n",
       "</style>\n",
       "<table border=\"1\" class=\"dataframe\">\n",
       "  <thead>\n",
       "    <tr style=\"text-align: right;\">\n",
       "      <th></th>\n",
       "      <th>Body</th>\n",
       "      <th>Title</th>\n",
       "      <th>Tags</th>\n",
       "    </tr>\n",
       "    <tr>\n",
       "      <th>Id</th>\n",
       "      <th></th>\n",
       "      <th></th>\n",
       "      <th></th>\n",
       "    </tr>\n",
       "  </thead>\n",
       "  <tbody>\n",
       "    <tr>\n",
       "      <th>3927</th>\n",
       "      <td>&lt;p&gt;What profilers have you used when working w...</td>\n",
       "      <td>What Are Some Good .NET Profilers?</td>\n",
       "      <td>&lt;c#&gt;&lt;.net&gt;&lt;profiling&gt;&lt;profiler&gt;</td>\n",
       "    </tr>\n",
       "    <tr>\n",
       "      <th>146</th>\n",
       "      <td>&lt;p&gt;I have a website that plays mp3s in a flash...</td>\n",
       "      <td>How do I track file downloads</td>\n",
       "      <td>&lt;php&gt;&lt;apache&gt;&lt;logging&gt;&lt;download&gt;&lt;analytics&gt;</td>\n",
       "    </tr>\n",
       "    <tr>\n",
       "      <th>2780</th>\n",
       "      <td>&lt;p&gt;Let's say that we have an ARGB color:&lt;/p&gt;\\n...</td>\n",
       "      <td>Converting ARBG to RGB with alpha blending</td>\n",
       "      <td>&lt;c#&gt;&lt;colors&gt;</td>\n",
       "    </tr>\n",
       "    <tr>\n",
       "      <th>3667</th>\n",
       "      <td>&lt;p&gt;We are currently using a somewhat complicat...</td>\n",
       "      <td>What is your favorite web app deployment workf...</td>\n",
       "      <td>&lt;svn&gt;&lt;deployment&gt;</td>\n",
       "    </tr>\n",
       "    <tr>\n",
       "      <th>871</th>\n",
       "      <td>&lt;p&gt;I've been using &lt;a href=\"http://en.wikipedi...</td>\n",
       "      <td>Why is Git better than Subversion?</td>\n",
       "      <td>&lt;svn&gt;&lt;git&gt;</td>\n",
       "    </tr>\n",
       "  </tbody>\n",
       "</table>\n",
       "</div>"
      ],
      "text/plain": [
       "                                                   Body  \\\n",
       "Id                                                        \n",
       "3927  <p>What profilers have you used when working w...   \n",
       "146   <p>I have a website that plays mp3s in a flash...   \n",
       "2780  <p>Let's say that we have an ARGB color:</p>\\n...   \n",
       "3667  <p>We are currently using a somewhat complicat...   \n",
       "871   <p>I've been using <a href=\"http://en.wikipedi...   \n",
       "\n",
       "                                                  Title  \\\n",
       "Id                                                        \n",
       "3927                 What Are Some Good .NET Profilers?   \n",
       "146                       How do I track file downloads   \n",
       "2780         Converting ARBG to RGB with alpha blending   \n",
       "3667  What is your favorite web app deployment workf...   \n",
       "871                  Why is Git better than Subversion?   \n",
       "\n",
       "                                             Tags  \n",
       "Id                                                 \n",
       "3927              <c#><.net><profiling><profiler>  \n",
       "146   <php><apache><logging><download><analytics>  \n",
       "2780                                 <c#><colors>  \n",
       "3667                            <svn><deployment>  \n",
       "871                                    <svn><git>  "
      ]
     },
     "execution_count": 6,
     "metadata": {},
     "output_type": "execute_result"
    }
   ],
   "source": [
    "df.sample(5)"
   ]
  },
  {
   "cell_type": "markdown",
   "metadata": {},
   "source": [
    "### Cleaning"
   ]
  },
  {
   "cell_type": "code",
   "execution_count": 7,
   "metadata": {},
   "outputs": [],
   "source": [
    "def basicHTMLTextCleaner(htmlText,tokenizer,stopwords,stemer):\n",
    "    '''\n",
    "    basic tokenizer for raw html text.\n",
    "    \n",
    "    Inputs\n",
    "    ------\n",
    "    htmlText : str\n",
    "        html text.\n",
    "    tokenizer : nltk.tokenize.regexp.RegexpTokenizer or similar\n",
    "        used to tokenize.\n",
    "    stopwords : nltk.corpus.reader.wordlist.WordListCorpusReader or similar\n",
    "        used to remove stopwords.\n",
    "    stemer : nltk.stem.porter.PorterStemmer or similar\n",
    "        used to stem.\n",
    "        \n",
    "    Returns\n",
    "    -------\n",
    "    text : nltk.Text\n",
    "        the cleaned text, as a nltk object.\n",
    "    '''\n",
    "    soup = BeautifulSoup(htmlText)\n",
    "    raw = soup.get_text(strip=False).lower()                # text from html + lower\n",
    "    tokens = tokenizer.tokenize(raw)                        # tokenization\n",
    "    tokens_stop = [t for t in tokens if t not in stopwords] # stopwords\n",
    "    tokens_stp_stem = [stemer.stem(t) for t in tokens_stop] # stemming\n",
    "\n",
    "    text = nltk.Text(tokens_stp_stem)\n",
    "    return text"
   ]
  },
  {
   "cell_type": "code",
   "execution_count": 8,
   "metadata": {},
   "outputs": [],
   "source": [
    "def basicTagTextCleaner(tagText):\n",
    "    '''\n",
    "    basic tokenizer for tag text.\n",
    "    \n",
    "    Inputs\n",
    "    ------\n",
    "    tagText : str\n",
    "        list of tags.\n",
    "        \n",
    "    Returns\n",
    "    -------\n",
    "    text : nltk.Text\n",
    "        the cleaned tag text, as a nltk object.\n",
    "    '''\n",
    "    tokens = tagText.split()\n",
    "    text = nltk.Text(tokens)\n",
    "    return text"
   ]
  },
  {
   "cell_type": "code",
   "execution_count": 9,
   "metadata": {},
   "outputs": [],
   "source": [
    "for c in ('Body','Title'):\n",
    "    df[c+'_clean'] = df[c].apply(lambda x: basicHTMLTextCleaner(x,tokenizer,stopwords,stemer))\n",
    "for c in ('Tags',):\n",
    "    df[c+'_clean'] = df[c].apply(lambda x: basicTagTextCleaner(x))"
   ]
  },
  {
   "cell_type": "code",
   "execution_count": 10,
   "metadata": {},
   "outputs": [
    {
     "data": {
      "text/html": [
       "<div>\n",
       "<style scoped>\n",
       "    .dataframe tbody tr th:only-of-type {\n",
       "        vertical-align: middle;\n",
       "    }\n",
       "\n",
       "    .dataframe tbody tr th {\n",
       "        vertical-align: top;\n",
       "    }\n",
       "\n",
       "    .dataframe thead th {\n",
       "        text-align: right;\n",
       "    }\n",
       "</style>\n",
       "<table border=\"1\" class=\"dataframe\">\n",
       "  <thead>\n",
       "    <tr style=\"text-align: right;\">\n",
       "      <th></th>\n",
       "      <th>Body</th>\n",
       "      <th>Title</th>\n",
       "      <th>Tags</th>\n",
       "      <th>Body_clean</th>\n",
       "      <th>Title_clean</th>\n",
       "      <th>Tags_clean</th>\n",
       "    </tr>\n",
       "    <tr>\n",
       "      <th>Id</th>\n",
       "      <th></th>\n",
       "      <th></th>\n",
       "      <th></th>\n",
       "      <th></th>\n",
       "      <th></th>\n",
       "      <th></th>\n",
       "    </tr>\n",
       "  </thead>\n",
       "  <tbody>\n",
       "    <tr>\n",
       "      <th>2530</th>\n",
       "      <td>&lt;p&gt;How do you disable &lt;code&gt;autocomplete&lt;/code...</td>\n",
       "      <td>How do you disable browser Autocomplete on web...</td>\n",
       "      <td>&lt;html&gt;&lt;browser&gt;&lt;autocomplete&gt;</td>\n",
       "      <td>(disabl, autocomplet, major, browser, specif, ...</td>\n",
       "      <td>(disabl, browser, autocomplet, web, form, fiel...</td>\n",
       "      <td>(&lt;html&gt;&lt;browser&gt;&lt;autocomplete&gt;)</td>\n",
       "    </tr>\n",
       "    <tr>\n",
       "      <th>4986</th>\n",
       "      <td>&lt;p&gt;What is a good way to get people to alpha t...</td>\n",
       "      <td>Web App Beta</td>\n",
       "      <td>&lt;web-applications&gt;</td>\n",
       "      <td>(good, way, get, peopl, alpha, test, web, appl...</td>\n",
       "      <td>(web, app, beta)</td>\n",
       "      <td>(&lt;web-applications&gt;)</td>\n",
       "    </tr>\n",
       "    <tr>\n",
       "      <th>1229</th>\n",
       "      <td>&lt;p&gt;I want to link to a specific slide in an on...</td>\n",
       "      <td>How do I hyperlink to a specific slide of a .p...</td>\n",
       "      <td>&lt;hyperlink&gt;&lt;powerpoint&gt;</td>\n",
       "      <td>(want, link, specif, slide, onlin, powerpoint,...</td>\n",
       "      <td>(hyperlink, specif, slide, ppt, file)</td>\n",
       "      <td>(&lt;hyperlink&gt;&lt;powerpoint&gt;)</td>\n",
       "    </tr>\n",
       "    <tr>\n",
       "      <th>2256</th>\n",
       "      <td>&lt;p&gt;Is there a way of mapping data collected on...</td>\n",
       "      <td>Mapping Stream data to data structures in C#</td>\n",
       "      <td>&lt;c#&gt;&lt;c++&gt;&lt;data-structures&gt;</td>\n",
       "      <td>(way, map, data, collect, stream, array, data,...</td>\n",
       "      <td>(map, stream, data, data, structur, c)</td>\n",
       "      <td>(&lt;c#&gt;&lt;c++&gt;&lt;data-structures&gt;)</td>\n",
       "    </tr>\n",
       "    <tr>\n",
       "      <th>651</th>\n",
       "      <td>&lt;p&gt;I've been having trouble getting my ASP.NET...</td>\n",
       "      <td>Checklist for IIS 6/ASP.NET Windows Authentica...</td>\n",
       "      <td>&lt;asp.net&gt;&lt;iis&gt;&lt;authentication&gt;&lt;active-directory&gt;</td>\n",
       "      <td>(troubl, get, asp, net, applic, automat, log, ...</td>\n",
       "      <td>(checklist, ii, 6, asp, net, window, authent)</td>\n",
       "      <td>(&lt;asp.net&gt;&lt;iis&gt;&lt;authentication&gt;&lt;active-directo...</td>\n",
       "    </tr>\n",
       "  </tbody>\n",
       "</table>\n",
       "</div>"
      ],
      "text/plain": [
       "                                                   Body  \\\n",
       "Id                                                        \n",
       "2530  <p>How do you disable <code>autocomplete</code...   \n",
       "4986  <p>What is a good way to get people to alpha t...   \n",
       "1229  <p>I want to link to a specific slide in an on...   \n",
       "2256  <p>Is there a way of mapping data collected on...   \n",
       "651   <p>I've been having trouble getting my ASP.NET...   \n",
       "\n",
       "                                                  Title  \\\n",
       "Id                                                        \n",
       "2530  How do you disable browser Autocomplete on web...   \n",
       "4986                                       Web App Beta   \n",
       "1229  How do I hyperlink to a specific slide of a .p...   \n",
       "2256       Mapping Stream data to data structures in C#   \n",
       "651   Checklist for IIS 6/ASP.NET Windows Authentica...   \n",
       "\n",
       "                                                  Tags  \\\n",
       "Id                                                       \n",
       "2530                     <html><browser><autocomplete>   \n",
       "4986                                <web-applications>   \n",
       "1229                           <hyperlink><powerpoint>   \n",
       "2256                        <c#><c++><data-structures>   \n",
       "651   <asp.net><iis><authentication><active-directory>   \n",
       "\n",
       "                                             Body_clean  \\\n",
       "Id                                                        \n",
       "2530  (disabl, autocomplet, major, browser, specif, ...   \n",
       "4986  (good, way, get, peopl, alpha, test, web, appl...   \n",
       "1229  (want, link, specif, slide, onlin, powerpoint,...   \n",
       "2256  (way, map, data, collect, stream, array, data,...   \n",
       "651   (troubl, get, asp, net, applic, automat, log, ...   \n",
       "\n",
       "                                            Title_clean  \\\n",
       "Id                                                        \n",
       "2530  (disabl, browser, autocomplet, web, form, fiel...   \n",
       "4986                                   (web, app, beta)   \n",
       "1229              (hyperlink, specif, slide, ppt, file)   \n",
       "2256             (map, stream, data, data, structur, c)   \n",
       "651       (checklist, ii, 6, asp, net, window, authent)   \n",
       "\n",
       "                                             Tags_clean  \n",
       "Id                                                       \n",
       "2530                    (<html><browser><autocomplete>)  \n",
       "4986                               (<web-applications>)  \n",
       "1229                          (<hyperlink><powerpoint>)  \n",
       "2256                       (<c#><c++><data-structures>)  \n",
       "651   (<asp.net><iis><authentication><active-directo...  "
      ]
     },
     "execution_count": 10,
     "metadata": {},
     "output_type": "execute_result"
    }
   ],
   "source": [
    "df.sample(5)"
   ]
  },
  {
   "cell_type": "code",
   "execution_count": null,
   "metadata": {},
   "outputs": [],
   "source": []
  },
  {
   "cell_type": "code",
   "execution_count": null,
   "metadata": {},
   "outputs": [],
   "source": []
  },
  {
   "cell_type": "code",
   "execution_count": null,
   "metadata": {},
   "outputs": [],
   "source": []
  },
  {
   "cell_type": "code",
   "execution_count": null,
   "metadata": {},
   "outputs": [],
   "source": []
  },
  {
   "cell_type": "code",
   "execution_count": null,
   "metadata": {},
   "outputs": [],
   "source": []
  },
  {
   "cell_type": "code",
   "execution_count": null,
   "metadata": {},
   "outputs": [],
   "source": []
  },
  {
   "cell_type": "code",
   "execution_count": null,
   "metadata": {},
   "outputs": [],
   "source": []
  },
  {
   "cell_type": "code",
   "execution_count": null,
   "metadata": {},
   "outputs": [],
   "source": []
  },
  {
   "cell_type": "code",
   "execution_count": null,
   "metadata": {},
   "outputs": [],
   "source": []
  },
  {
   "cell_type": "code",
   "execution_count": null,
   "metadata": {},
   "outputs": [],
   "source": []
  },
  {
   "cell_type": "code",
   "execution_count": null,
   "metadata": {},
   "outputs": [],
   "source": []
  },
  {
   "cell_type": "code",
   "execution_count": null,
   "metadata": {},
   "outputs": [],
   "source": []
  },
  {
   "cell_type": "markdown",
   "metadata": {},
   "source": [
    "### Cleaned data"
   ]
  },
  {
   "cell_type": "code",
   "execution_count": 11,
   "metadata": {},
   "outputs": [],
   "source": [
    "name,ext = os.path.splitext(filename)\n",
    "\n",
    "c = ('Body_clean','Title_clean','Tags_clean')\n",
    "df.loc[:,c].to_csv(os.path.join(pathToDataDir,name+'_clean'+ext),index=True)"
   ]
  },
  {
   "cell_type": "code",
   "execution_count": null,
   "metadata": {},
   "outputs": [],
   "source": []
  }
 ],
 "metadata": {
  "kernelspec": {
   "display_name": "Python 3",
   "language": "python",
   "name": "python3"
  },
  "language_info": {
   "codemirror_mode": {
    "name": "ipython",
    "version": 3
   },
   "file_extension": ".py",
   "mimetype": "text/x-python",
   "name": "python",
   "nbconvert_exporter": "python",
   "pygments_lexer": "ipython3",
   "version": "3.6.4"
  }
 },
 "nbformat": 4,
 "nbformat_minor": 2
}
