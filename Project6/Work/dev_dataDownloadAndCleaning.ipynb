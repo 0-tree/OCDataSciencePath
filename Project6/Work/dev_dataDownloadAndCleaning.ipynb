{
 "cells": [
  {
   "cell_type": "markdown",
   "metadata": {},
   "source": [
    "# [Projet 6: Catégorisez automatiquement des questions](https://openclassrooms.com/fr/projects/categorisez-automatiquement-des-questions)\n",
    "(parcours data: [here](https://openclassrooms.com/paths/63-data-scientist))"
   ]
  },
  {
   "cell_type": "markdown",
   "metadata": {},
   "source": [
    "## Data cleaning"
   ]
  },
  {
   "cell_type": "markdown",
   "metadata": {},
   "source": [
    "Data exporter (StackExchange): [here](https://data.stackexchange.com/stackoverflow/query/new).  \n",
    "My minimal SQL query:\n",
    "```\n",
    "SELECT\n",
    "   Id,Body,Title,Tags\n",
    "FROM\n",
    "   Posts\n",
    "WHERE\n",
    "   Id < 5000 and Body<>'' and Title<>'' and Tags <>''\n",
    "```"
   ]
  },
  {
   "cell_type": "markdown",
   "metadata": {},
   "source": [
    "Resources:\n",
    "- [tutorial on kaggle](https://www.kaggle.com/c/word2vec-nlp-tutorial#part-1-for-beginners-bag-of-words) (I did this basically on my own, but look at the features with scikit-learn section)"
   ]
  },
  {
   "cell_type": "markdown",
   "metadata": {},
   "source": [
    "### Imports"
   ]
  },
  {
   "cell_type": "code",
   "execution_count": 1,
   "metadata": {},
   "outputs": [],
   "source": [
    "import os\n",
    "HOME = os.path.expanduser('~/')\n",
    "HOST = os.uname()[1]\n",
    "if HOST == 'Arthurs-MacBook-Pro.local':\n",
    "    os.chdir(HOME+'Documents/GitHub/OCDataSciencePath/Project6/Work/')    # @home\n",
    "else:\n",
    "    raise ValueError('unknown host: {}'.format(HOST))\n",
    "    \n",
    "import numpy as np\n",
    "import pandas as pd\n",
    "from scipy.sparse import hstack\n",
    "import pickle\n",
    "\n",
    "import matplotlib.pyplot as plt\n",
    "%matplotlib inline"
   ]
  },
  {
   "cell_type": "markdown",
   "metadata": {},
   "source": [
    "Some info and uses for [BeautifulSoup](https://pypi.org/project/beautifulsoup4/): [here](https://www.pythonforbeginners.com/beautifulsoup/beautifulsoup-4-python),"
   ]
  },
  {
   "cell_type": "code",
   "execution_count": 2,
   "metadata": {},
   "outputs": [],
   "source": [
    "from bs4 import BeautifulSoup # conda install beautifulsoup4"
   ]
  },
  {
   "cell_type": "markdown",
   "metadata": {},
   "source": [
    "Some info and uses for [NLTK](https://pypi.org/project/nltk/): [here](http://www.nltk.org/book/),"
   ]
  },
  {
   "cell_type": "code",
   "execution_count": 3,
   "metadata": {},
   "outputs": [],
   "source": [
    "import nltk\n",
    "#nltk.download('punkt')"
   ]
  },
  {
   "cell_type": "code",
   "execution_count": 4,
   "metadata": {},
   "outputs": [],
   "source": [
    "from sklearn.feature_extraction.text import CountVectorizer, TfidfTransformer"
   ]
  },
  {
   "cell_type": "code",
   "execution_count": 5,
   "metadata": {},
   "outputs": [],
   "source": [
    "from Pkg.helper import basicHTMLTextCleaner, basicTagTextCleaner, isValidData # needs correct working directory"
   ]
  },
  {
   "cell_type": "markdown",
   "metadata": {},
   "source": [
    "### Data"
   ]
  },
  {
   "cell_type": "code",
   "execution_count": 13,
   "metadata": {},
   "outputs": [],
   "source": [
    "if HOST == 'Arthurs-MacBook-Pro.local':\n",
    "    pathToDataDir = HOME+'Documents/Dropbox/Transit/OCDataScienceData/Project6/Data/'    # @home\n",
    "    pathToIntellDir = HOME+'Documents/Dropbox/Transit/OCDataScienceData/Project6/Intelligence/'    # @home\n",
    "else:\n",
    "    raise ValueError('unknown host: {}'.format(HOST))"
   ]
  },
  {
   "cell_type": "code",
   "execution_count": 14,
   "metadata": {},
   "outputs": [],
   "source": [
    "filename = 'QueryResults_10k.csv'\n",
    "df = pd.read_csv(pathToDataDir+filename,index_col='Id')"
   ]
  },
  {
   "cell_type": "code",
   "execution_count": 15,
   "metadata": {},
   "outputs": [],
   "source": [
    "n,p = df.shape\n",
    "k = .8\n",
    "df_train,df_test = df.iloc[:int(k*n),:].copy(),df.iloc[int(k*n):,:].copy()"
   ]
  },
  {
   "cell_type": "code",
   "execution_count": 39,
   "metadata": {},
   "outputs": [
    {
     "name": "stdout",
     "output_type": "stream",
     "text": [
      "(9028, 6) (2258, 6)\n"
     ]
    },
    {
     "data": {
      "text/html": [
       "<div>\n",
       "<style scoped>\n",
       "    .dataframe tbody tr th:only-of-type {\n",
       "        vertical-align: middle;\n",
       "    }\n",
       "\n",
       "    .dataframe tbody tr th {\n",
       "        vertical-align: top;\n",
       "    }\n",
       "\n",
       "    .dataframe thead th {\n",
       "        text-align: right;\n",
       "    }\n",
       "</style>\n",
       "<table border=\"1\" class=\"dataframe\">\n",
       "  <thead>\n",
       "    <tr style=\"text-align: right;\">\n",
       "      <th></th>\n",
       "      <th>Body</th>\n",
       "      <th>Title</th>\n",
       "      <th>Tags</th>\n",
       "      <th>Body_clean</th>\n",
       "      <th>Title_clean</th>\n",
       "      <th>Tags_clean</th>\n",
       "    </tr>\n",
       "    <tr>\n",
       "      <th>Id</th>\n",
       "      <th></th>\n",
       "      <th></th>\n",
       "      <th></th>\n",
       "      <th></th>\n",
       "      <th></th>\n",
       "      <th></th>\n",
       "    </tr>\n",
       "  </thead>\n",
       "  <tbody>\n",
       "    <tr>\n",
       "      <th>66810</th>\n",
       "      <td>&lt;p&gt;Has anybody experience in building a custom...</td>\n",
       "      <td>Custom style with Qt</td>\n",
       "      <td>&lt;qt&gt;&lt;widget&gt;</td>\n",
       "      <td>anybodi experi build custom style qt mind comp...</td>\n",
       "      <td>custom style qt</td>\n",
       "      <td>&lt;qt&gt;&lt;widget&gt;</td>\n",
       "    </tr>\n",
       "    <tr>\n",
       "      <th>56944</th>\n",
       "      <td>&lt;p&gt;Encouraged by SO, I'm trying to write an AS...</td>\n",
       "      <td>secure way to authenticate administrator in AS...</td>\n",
       "      <td>&lt;asp.net&gt;&lt;openid&gt;&lt;dotnetopenauth&gt;</td>\n",
       "      <td>encourag tri write asp net site use openid use...</td>\n",
       "      <td>secur way authent administr asp net site use o...</td>\n",
       "      <td>&lt;asp.net&gt;&lt;openid&gt;&lt;dotnetopenauth&gt;</td>\n",
       "    </tr>\n",
       "    <tr>\n",
       "      <th>50315</th>\n",
       "      <td>&lt;p&gt;I have a couple of solutions, but none of t...</td>\n",
       "      <td>How do you allow multiple file uploads on an i...</td>\n",
       "      <td>&lt;javascript&gt;&lt;flash&gt;&lt;authentication&gt;&lt;activex&gt;&lt;f...</td>\n",
       "      <td>coupl solut none work perfectli platform asp n...</td>\n",
       "      <td>allow multipl file upload intern window authen...</td>\n",
       "      <td>&lt;javascript&gt;&lt;flash&gt;&lt;authentication&gt;&lt;activex&gt;&lt;f...</td>\n",
       "    </tr>\n",
       "    <tr>\n",
       "      <th>68578</th>\n",
       "      <td>&lt;p&gt;Is there a way to fall through multiple cas...</td>\n",
       "      <td>Multiple cases in switch statement</td>\n",
       "      <td>&lt;c#&gt;&lt;switch-statement&gt;</td>\n",
       "      <td>way fall multipl case statement without state ...</td>\n",
       "      <td>multipl case switch statement</td>\n",
       "      <td>&lt;c#&gt;&lt;switch-statement&gt;</td>\n",
       "    </tr>\n",
       "    <tr>\n",
       "      <th>24579</th>\n",
       "      <td>&lt;p&gt;Is there a good ruby gem for a WYSIWYG edit...</td>\n",
       "      <td>WYSIWYG editor gem for Rails?</td>\n",
       "      <td>&lt;ruby-on-rails&gt;&lt;ruby&gt;&lt;gem&gt;</td>\n",
       "      <td>good rubi gem wysiwyg editor easili work rail app</td>\n",
       "      <td>wysiwyg editor gem rail</td>\n",
       "      <td>&lt;ruby-on-rails&gt;&lt;ruby&gt;&lt;gem&gt;</td>\n",
       "    </tr>\n",
       "  </tbody>\n",
       "</table>\n",
       "</div>"
      ],
      "text/plain": [
       "                                                    Body  \\\n",
       "Id                                                         \n",
       "66810  <p>Has anybody experience in building a custom...   \n",
       "56944  <p>Encouraged by SO, I'm trying to write an AS...   \n",
       "50315  <p>I have a couple of solutions, but none of t...   \n",
       "68578  <p>Is there a way to fall through multiple cas...   \n",
       "24579  <p>Is there a good ruby gem for a WYSIWYG edit...   \n",
       "\n",
       "                                                   Title  \\\n",
       "Id                                                         \n",
       "66810                               Custom style with Qt   \n",
       "56944  secure way to authenticate administrator in AS...   \n",
       "50315  How do you allow multiple file uploads on an i...   \n",
       "68578                 Multiple cases in switch statement   \n",
       "24579                      WYSIWYG editor gem for Rails?   \n",
       "\n",
       "                                                    Tags  \\\n",
       "Id                                                         \n",
       "66810                                       <qt><widget>   \n",
       "56944                  <asp.net><openid><dotnetopenauth>   \n",
       "50315  <javascript><flash><authentication><activex><f...   \n",
       "68578                             <c#><switch-statement>   \n",
       "24579                         <ruby-on-rails><ruby><gem>   \n",
       "\n",
       "                                              Body_clean  \\\n",
       "Id                                                         \n",
       "66810  anybodi experi build custom style qt mind comp...   \n",
       "56944  encourag tri write asp net site use openid use...   \n",
       "50315  coupl solut none work perfectli platform asp n...   \n",
       "68578  way fall multipl case statement without state ...   \n",
       "24579  good rubi gem wysiwyg editor easili work rail app   \n",
       "\n",
       "                                             Title_clean  \\\n",
       "Id                                                         \n",
       "66810                                    custom style qt   \n",
       "56944  secur way authent administr asp net site use o...   \n",
       "50315  allow multipl file upload intern window authen...   \n",
       "68578                      multipl case switch statement   \n",
       "24579                            wysiwyg editor gem rail   \n",
       "\n",
       "                                              Tags_clean  \n",
       "Id                                                        \n",
       "66810                                       <qt><widget>  \n",
       "56944                  <asp.net><openid><dotnetopenauth>  \n",
       "50315  <javascript><flash><authentication><activex><f...  \n",
       "68578                             <c#><switch-statement>  \n",
       "24579                         <ruby-on-rails><ruby><gem>  "
      ]
     },
     "execution_count": 39,
     "metadata": {},
     "output_type": "execute_result"
    }
   ],
   "source": [
    "print(df_train.shape,df_test.shape)\n",
    "df_train.sample(5)"
   ]
  },
  {
   "cell_type": "markdown",
   "metadata": {},
   "source": [
    "### Basic text cleaning"
   ]
  },
  {
   "cell_type": "code",
   "execution_count": 11,
   "metadata": {},
   "outputs": [],
   "source": [
    "def applyCleaner(df,tokenizer,stopwords,stemer):\n",
    "    '''\n",
    "    applies the cleaner to a pd.DataFrame. See called functions for help.\n",
    "    '''\n",
    "    for c in ('Body','Title'):\n",
    "        df[c+'_clean'] = df[c].apply(lambda x: basicHTMLTextCleaner(x,tokenizer,stopwords,stemer))\n",
    "    for c in ('Tags',):\n",
    "        df[c+'_clean'] = df[c].apply(lambda x: basicTagTextCleaner(x))\n",
    "        \n",
    "    return df"
   ]
  },
  {
   "cell_type": "code",
   "execution_count": 20,
   "metadata": {},
   "outputs": [],
   "source": [
    "stopwords = set(nltk.corpus.stopwords.words('english'))\n",
    "tokenizer = nltk.tokenize.RegexpTokenizer(r'\\w+')\n",
    "stemer = nltk.PorterStemmer()\n",
    "\n",
    "df_train = applyCleaner(df_train,tokenizer,stopwords,stemer)\n",
    "df_test = applyCleaner(df_test,tokenizer,stopwords,stemer)"
   ]
  },
  {
   "cell_type": "code",
   "execution_count": 21,
   "metadata": {},
   "outputs": [],
   "source": [
    "# save transformers for later\n",
    "pickle.dump(stopwords, open(pathToIntellDir+'stopwords.pkl','wb'))\n",
    "pickle.dump(tokenizer, open(pathToIntellDir+'tokenizer.pkl','wb'))\n",
    "pickle.dump(stemer, open(pathToIntellDir+'stemer.pkl','wb'))"
   ]
  },
  {
   "cell_type": "code",
   "execution_count": 22,
   "metadata": {},
   "outputs": [
    {
     "data": {
      "text/html": [
       "<div>\n",
       "<style scoped>\n",
       "    .dataframe tbody tr th:only-of-type {\n",
       "        vertical-align: middle;\n",
       "    }\n",
       "\n",
       "    .dataframe tbody tr th {\n",
       "        vertical-align: top;\n",
       "    }\n",
       "\n",
       "    .dataframe thead th {\n",
       "        text-align: right;\n",
       "    }\n",
       "</style>\n",
       "<table border=\"1\" class=\"dataframe\">\n",
       "  <thead>\n",
       "    <tr style=\"text-align: right;\">\n",
       "      <th></th>\n",
       "      <th>Body</th>\n",
       "      <th>Title</th>\n",
       "      <th>Tags</th>\n",
       "      <th>Body_clean</th>\n",
       "      <th>Title_clean</th>\n",
       "      <th>Tags_clean</th>\n",
       "    </tr>\n",
       "    <tr>\n",
       "      <th>Id</th>\n",
       "      <th></th>\n",
       "      <th></th>\n",
       "      <th></th>\n",
       "      <th></th>\n",
       "      <th></th>\n",
       "      <th></th>\n",
       "    </tr>\n",
       "  </thead>\n",
       "  <tbody>\n",
       "    <tr>\n",
       "      <th>49334</th>\n",
       "      <td>&lt;p&gt;In my database, I have an entity table (let...</td>\n",
       "      <td>Querying collections of value type in the Crit...</td>\n",
       "      <td>&lt;hibernate&gt;&lt;enums&gt;&lt;hql&gt;</td>\n",
       "      <td>databas entiti tabl let call entiti entiti num...</td>\n",
       "      <td>queri collect valu type criteria api hibern</td>\n",
       "      <td>&lt;hibernate&gt;&lt;enums&gt;&lt;hql&gt;</td>\n",
       "    </tr>\n",
       "    <tr>\n",
       "      <th>55828</th>\n",
       "      <td>&lt;p&gt;Is there a simple method of parsing XML fil...</td>\n",
       "      <td>How does one parse XML files?</td>\n",
       "      <td>&lt;c#&gt;&lt;xml&gt;</td>\n",
       "      <td>simpl method pars xml file c</td>\n",
       "      <td>one pars xml file</td>\n",
       "      <td>&lt;c#&gt;&lt;xml&gt;</td>\n",
       "    </tr>\n",
       "    <tr>\n",
       "      <th>51139</th>\n",
       "      <td>&lt;p&gt;I'm trying to create an SSIS package that t...</td>\n",
       "      <td>How to insert a row into a dataset using SSIS?</td>\n",
       "      <td>&lt;sql-server&gt;&lt;ssis&gt;</td>\n",
       "      <td>tri creat ssi packag take data xml data sourc ...</td>\n",
       "      <td>insert row dataset use ssi</td>\n",
       "      <td>&lt;sql-server&gt;&lt;ssis&gt;</td>\n",
       "    </tr>\n",
       "    <tr>\n",
       "      <th>55296</th>\n",
       "      <td>&lt;p&gt;I'm looking to implement httpOnly in my leg...</td>\n",
       "      <td>How exactly do you configure httpOnly Cookies ...</td>\n",
       "      <td>&lt;security&gt;&lt;asp-classic&gt;&lt;httponly&gt;</td>\n",
       "      <td>look implement httponli legaci asp classic sit...</td>\n",
       "      <td>exactli configur httponli cooki asp classic</td>\n",
       "      <td>&lt;security&gt;&lt;asp-classic&gt;&lt;httponly&gt;</td>\n",
       "    </tr>\n",
       "    <tr>\n",
       "      <th>59390</th>\n",
       "      <td>&lt;p&gt;In a ColdFusion Component (CFC), is it nece...</td>\n",
       "      <td>ColdFusion: Is it safe to leave out the variab...</td>\n",
       "      <td>&lt;coldfusion&gt;&lt;cfc&gt;</td>\n",
       "      <td>coldfus compon cfc necessari use fulli qualifi...</td>\n",
       "      <td>coldfus safe leav variabl keyword cfc</td>\n",
       "      <td>&lt;coldfusion&gt;&lt;cfc&gt;</td>\n",
       "    </tr>\n",
       "  </tbody>\n",
       "</table>\n",
       "</div>"
      ],
      "text/plain": [
       "                                                    Body  \\\n",
       "Id                                                         \n",
       "49334  <p>In my database, I have an entity table (let...   \n",
       "55828  <p>Is there a simple method of parsing XML fil...   \n",
       "51139  <p>I'm trying to create an SSIS package that t...   \n",
       "55296  <p>I'm looking to implement httpOnly in my leg...   \n",
       "59390  <p>In a ColdFusion Component (CFC), is it nece...   \n",
       "\n",
       "                                                   Title  \\\n",
       "Id                                                         \n",
       "49334  Querying collections of value type in the Crit...   \n",
       "55828                      How does one parse XML files?   \n",
       "51139     How to insert a row into a dataset using SSIS?   \n",
       "55296  How exactly do you configure httpOnly Cookies ...   \n",
       "59390  ColdFusion: Is it safe to leave out the variab...   \n",
       "\n",
       "                                    Tags  \\\n",
       "Id                                         \n",
       "49334            <hibernate><enums><hql>   \n",
       "55828                          <c#><xml>   \n",
       "51139                 <sql-server><ssis>   \n",
       "55296  <security><asp-classic><httponly>   \n",
       "59390                  <coldfusion><cfc>   \n",
       "\n",
       "                                              Body_clean  \\\n",
       "Id                                                         \n",
       "49334  databas entiti tabl let call entiti entiti num...   \n",
       "55828                       simpl method pars xml file c   \n",
       "51139  tri creat ssi packag take data xml data sourc ...   \n",
       "55296  look implement httponli legaci asp classic sit...   \n",
       "59390  coldfus compon cfc necessari use fulli qualifi...   \n",
       "\n",
       "                                       Title_clean  \\\n",
       "Id                                                   \n",
       "49334  queri collect valu type criteria api hibern   \n",
       "55828                            one pars xml file   \n",
       "51139                   insert row dataset use ssi   \n",
       "55296  exactli configur httponli cooki asp classic   \n",
       "59390        coldfus safe leav variabl keyword cfc   \n",
       "\n",
       "                              Tags_clean  \n",
       "Id                                        \n",
       "49334            <hibernate><enums><hql>  \n",
       "55828                          <c#><xml>  \n",
       "51139                 <sql-server><ssis>  \n",
       "55296  <security><asp-classic><httponly>  \n",
       "59390                  <coldfusion><cfc>  "
      ]
     },
     "execution_count": 22,
     "metadata": {},
     "output_type": "execute_result"
    }
   ],
   "source": [
    "df_train.sample(5)"
   ]
  },
  {
   "cell_type": "markdown",
   "metadata": {},
   "source": [
    "### Vectorization\n",
    "\n",
    "Resources\n",
    "- [scikit tutorial](http://scikit-learn.org/stable/tutorial/text_analytics/working_with_text_data.html) (also used in this [kaggle example](https://www.kaggle.com/c/word2vec-nlp-tutorial#part-1-for-beginners-bag-of-words))"
   ]
  },
  {
   "cell_type": "markdown",
   "metadata": {},
   "source": [
    "*Input texts:*"
   ]
  },
  {
   "cell_type": "code",
   "execution_count": 23,
   "metadata": {},
   "outputs": [],
   "source": [
    "# count occurences (beware to fit the dictionary only on train data!)\n",
    "# NB: deal with tags separately, as they basically need one-hot encoding\n",
    "V_body = 100 # 20 # 500\n",
    "count_body = CountVectorizer(analyzer = \"word\",   # entities to be counted\n",
    "                             preprocessor = None, # because we did it ourselves\n",
    "                             lowercase = False,   # because we did it ourselves\n",
    "                             stop_words = None,   # because we did it ourselves\n",
    "                             tokenizer = None,    # because we did it ourselves\n",
    "                             max_features = V_body) \n",
    "\n",
    "count_body.fit(df_train['Body_clean'])\n",
    "vocab_body = count_body.vocabulary_\n",
    "\n",
    "V_title = 20 # 5 # 100\n",
    "count_title = CountVectorizer(analyzer = \"word\",   # entities to be counted\n",
    "                              preprocessor = None, # because we did it ourselves\n",
    "                              lowercase = False,   # because we did it ourselves\n",
    "                              stop_words = None,   # because we did it ourselves\n",
    "                              tokenizer = None,    # because we did it ourselves\n",
    "                              max_features = V_title) \n",
    "\n",
    "count_title.fit(df_train['Title_clean'])\n",
    "vocab_title = count_title.vocabulary_\n",
    "\n",
    "# transform to vectors using the fitted dictionaries\n",
    "body_train = count_body.transform(df_train['Body_clean'])\n",
    "title_train = count_title.transform(df_train['Title_clean'])\n",
    "\n",
    "body_test = count_body.transform(df_test['Body_clean'])\n",
    "title_test = count_title.transform(df_test['Title_clean'])"
   ]
  },
  {
   "cell_type": "code",
   "execution_count": 24,
   "metadata": {},
   "outputs": [],
   "source": [
    "# use TF-IDF (beware to fit the IDF with train data!)\n",
    "tfidf_body = TfidfTransformer(use_idf=True).fit(body_train)\n",
    "tfidf_title = TfidfTransformer(use_idf=True).fit(title_train)\n",
    "\n",
    "# transform using the fitted IDF\n",
    "body2_train = tfidf_body.transform(body_train)\n",
    "title2_train = tfidf_title.transform(title_train)\n",
    "\n",
    "body2_test = tfidf_body.transform(body_test)\n",
    "title2_test = tfidf_title.transform(title_test)"
   ]
  },
  {
   "cell_type": "code",
   "execution_count": 27,
   "metadata": {},
   "outputs": [],
   "source": [
    "# save transformers for later use\n",
    "pickle.dump(count_body, open(pathToIntellDir+'count_body.pkl','wb'))\n",
    "pickle.dump(count_title, open(pathToIntellDir+'count_title.pkl','wb'))\n",
    "\n",
    "pickle.dump(tfidf_body, open(pathToIntellDir+'tfidf_body.pkl','wb'))\n",
    "pickle.dump(tfidf_title, open(pathToIntellDir+'tfidf_title.pkl','wb'))"
   ]
  },
  {
   "cell_type": "code",
   "execution_count": 28,
   "metadata": {},
   "outputs": [
    {
     "data": {
      "text/plain": [
       "array([[ 0.        ,  0.        ,  0.        ,  0.        ,  0.        ,\n",
       "         0.        ,  0.1963628 ,  0.        ,  0.        ,  0.27043017,\n",
       "         0.        ,  0.23514089,  0.        ,  0.35791596,  0.23923973,\n",
       "         0.        ,  0.        ,  0.        ,  0.        ,  0.        ,\n",
       "         0.        ,  0.        ,  0.        ,  0.        ,  0.24967691,\n",
       "         0.        ,  0.        ,  0.        ,  0.23707879,  0.27108839,\n",
       "         0.        ,  0.        ,  0.        ,  0.        ,  0.        ,\n",
       "         0.        ,  0.        ,  0.        ,  0.        ,  0.        ,\n",
       "         0.        ,  0.        ,  0.        ,  0.        ,  0.        ,\n",
       "         0.        ,  0.        ,  0.        ,  0.        ,  0.2038933 ,\n",
       "         0.        ,  0.        ,  0.        ,  0.        ,  0.        ,\n",
       "         0.        ,  0.        ,  0.        ,  0.        ,  0.23691526,\n",
       "         0.        ,  0.        ,  0.        ,  0.        ,  0.        ,\n",
       "         0.        ,  0.        ,  0.        ,  0.        ,  0.        ,\n",
       "         0.        ,  0.        ,  0.        ,  0.        ,  0.        ,\n",
       "         0.        ,  0.        ,  0.        ,  0.        ,  0.        ,\n",
       "         0.        ,  0.        ,  0.        ,  0.        ,  0.        ,\n",
       "         0.        ,  0.19400562,  0.23757165,  0.        ,  0.23446642,\n",
       "         0.        ,  0.24624145,  0.        ,  0.18250692,  0.        ,\n",
       "         0.        ,  0.        ,  0.33903793,  0.        ,  0.        ]])"
      ]
     },
     "execution_count": 28,
     "metadata": {},
     "output_type": "execute_result"
    }
   ],
   "source": [
    "body2_train[0,:].toarray()"
   ]
  },
  {
   "cell_type": "code",
   "execution_count": 29,
   "metadata": {},
   "outputs": [
    {
     "data": {
      "text/plain": [
       "array([[ 0.,  0.,  0.,  0.,  0.,  0.,  0.,  0.,  0.,  0.,  0.,  0.,  0.,\n",
       "         0.,  0.,  0.,  0.,  0.,  0.,  0.]])"
      ]
     },
     "execution_count": 29,
     "metadata": {},
     "output_type": "execute_result"
    }
   ],
   "source": [
    "title2_train[0,:].toarray()"
   ]
  },
  {
   "cell_type": "markdown",
   "metadata": {},
   "source": [
    "*Target tags:*"
   ]
  },
  {
   "cell_type": "code",
   "execution_count": 30,
   "metadata": {},
   "outputs": [
    {
     "data": {
      "text/plain": [
       "<matplotlib.axes._subplots.AxesSubplot at 0x1a167c5400>"
      ]
     },
     "execution_count": 30,
     "metadata": {},
     "output_type": "execute_result"
    },
    {
     "data": {
      "image/png": "[encoded data removed]",
      "text/plain": [
       "<matplotlib.figure.Figure at 0x1a167c57f0>"
      ]
     },
     "metadata": {},
     "output_type": "display_data"
    }
   ],
   "source": [
    "# analysis of the tags (NB: here we only 'multiplly'-one-hot encode: there is no need to compute TF-IDF!)\n",
    "\n",
    "# count occurences\n",
    "V_tag = 100 # 20 # NB (after viewing the plots): a looot of tags appear only once\n",
    "count_tag = CountVectorizer(analyzer = \"word\",   # entities to be counted\n",
    "                            preprocessor = None, # because we did it ourselves\n",
    "                            lowercase = False,   # because we did it ourselves\n",
    "                            stop_words = None,   # because we did it ourselves\n",
    "                            tokenizer = None,    # because we did it ourselves\n",
    "                            token_pattern = '<[^[<>]*>', # otherwise, treats tags as words\n",
    "                            max_features = V_tag) \n",
    "\n",
    "count_tag.fit(df_train['Tags_clean'])\n",
    "vocab_tag = count_tag.vocabulary_\n",
    "\n",
    "# transform\n",
    "tag_train = count_tag.transform(df_train['Tags_clean'])\n",
    "tag_test = count_tag.transform(df_test['Tags_clean'])\n",
    "\n",
    "# plot number of questions per tag\n",
    "tagCount = pd.DataFrame(index=['count'])\n",
    "for t,i in vocab_tag.items():\n",
    "    tagCount[t] = tag_train[:,i].sum()\n",
    "tagCount = tagCount.transpose()\n",
    "tagCount = tagCount.sort_values(by='count',ascending=True)\n",
    "tagCount.plot(kind='barh',figsize=(20,10))"
   ]
  },
  {
   "cell_type": "code",
   "execution_count": 38,
   "metadata": {},
   "outputs": [],
   "source": [
    "# save transofrmer for later use\n",
    "pickle.dump(count_tag, open(pathToIntellDir+'count_tag.pkl','wb'))"
   ]
  },
  {
   "cell_type": "code",
   "execution_count": 32,
   "metadata": {},
   "outputs": [
    {
     "data": {
      "text/plain": [
       "array([[0, 0, 0, 0, 0, 0, 0, 0, 0, 0, 0, 0, 0, 0, 1, 0, 0, 0, 0, 0, 0, 0,\n",
       "        0, 0, 0, 0, 0, 0, 0, 0, 0, 0, 0, 0, 0, 0, 0, 0, 0, 0, 0, 0, 0, 0,\n",
       "        0, 0, 0, 0, 0, 0, 0, 0, 0, 0, 0, 0, 0, 0, 0, 0, 0, 0, 0, 0, 0, 0,\n",
       "        0, 0, 0, 0, 0, 0, 0, 0, 0, 0, 0, 0, 0, 0, 0, 0, 0, 0, 0, 0, 0, 0,\n",
       "        0, 0, 0, 0, 0, 0, 0, 0, 0, 0, 0, 0]])"
      ]
     },
     "execution_count": 32,
     "metadata": {},
     "output_type": "execute_result"
    }
   ],
   "source": [
    "tag_train[0,:].toarray()"
   ]
  },
  {
   "cell_type": "markdown",
   "metadata": {},
   "source": [
    "*Merge together:*"
   ]
  },
  {
   "cell_type": "code",
   "execution_count": 33,
   "metadata": {},
   "outputs": [],
   "source": [
    "x_train = hstack((body2_train,title2_train)) # need hstack because we work on sparse matrices...\n",
    "x_test = hstack((body2_test,title2_test))\n",
    "\n",
    "y_train = tag_train\n",
    "y_test = tag_test"
   ]
  },
  {
   "cell_type": "markdown",
   "metadata": {},
   "source": [
    "*Handle cases when some rows do not have selected words/tags...*"
   ]
  },
  {
   "cell_type": "code",
   "execution_count": 34,
   "metadata": {},
   "outputs": [],
   "source": [
    "# SEE HOW TO AVOID THAT: go back to full matrices for subscripting, export...\n",
    "x_train = x_train.toarray()\n",
    "x_test = x_test.toarray()\n",
    "\n",
    "y_train = y_train.toarray()\n",
    "y_test = y_test.toarray()"
   ]
  },
  {
   "cell_type": "code",
   "execution_count": 35,
   "metadata": {},
   "outputs": [],
   "source": [
    "isValid_train = isValidData(x_train,y_train,V_body)\n",
    "isValid_test = isValidData(x_test,y_test,V_body)\n",
    "\n",
    "x_train,y_train = x_train[isValid_train,:],y_train[isValid_train,:]\n",
    "x_test,y_test = x_test[isValid_test,:],y_test[isValid_test,:]"
   ]
  },
  {
   "cell_type": "code",
   "execution_count": 36,
   "metadata": {},
   "outputs": [
    {
     "name": "stdout",
     "output_type": "stream",
     "text": [
      "(4441, 120) (4441, 100)\n",
      "(1049, 120) (1049, 100)\n"
     ]
    }
   ],
   "source": [
    "print(x_train.shape,y_train.shape)\n",
    "print(x_test.shape,y_test.shape)"
   ]
  },
  {
   "cell_type": "markdown",
   "metadata": {},
   "source": [
    "### Cleaned data"
   ]
  },
  {
   "cell_type": "code",
   "execution_count": 37,
   "metadata": {},
   "outputs": [],
   "source": [
    "name,ext = os.path.splitext(filename)\n",
    "\n",
    "#c = ('Body_clean','Title_clean','Tags_clean')\n",
    "#df.loc[:,c].to_csv(os.path.join(pathToDataDir,name+'_clean'+ext),index=True)\n",
    "\n",
    "np.savez(os.path.join(pathToDataDir,name+'_forLearning'), *[x_train,\n",
    "                                                            x_test,\n",
    "                                                            y_train,\n",
    "                                                            y_test])"
   ]
  },
  {
   "cell_type": "code",
   "execution_count": null,
   "metadata": {},
   "outputs": [],
   "source": []
  }
 ],
 "metadata": {
  "kernelspec": {
   "display_name": "Python 3",
   "language": "python",
   "name": "python3"
  },
  "language_info": {
   "codemirror_mode": {
    "name": "ipython",
    "version": 3
   },
   "file_extension": ".py",
   "mimetype": "text/x-python",
   "name": "python",
   "nbconvert_exporter": "python",
   "pygments_lexer": "ipython3",
   "version": "3.6.4"
  }
 },
 "nbformat": 4,
 "nbformat_minor": 2
}
