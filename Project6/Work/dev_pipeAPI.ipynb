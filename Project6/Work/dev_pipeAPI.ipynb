{
 "cells": [
  {
   "cell_type": "markdown",
   "metadata": {},
   "source": [
    "# [Projet 6: Catégorisez automatiquement des questions](https://openclassrooms.com/fr/projects/categorisez-automatiquement-des-questions)\n",
    "(parcours data: [here](https://openclassrooms.com/paths/63-data-scientist))"
   ]
  },
  {
   "cell_type": "markdown",
   "metadata": {},
   "source": [
    "## Skeleton for API"
   ]
  },
  {
   "cell_type": "markdown",
   "metadata": {},
   "source": [
    "### Imports"
   ]
  },
  {
   "cell_type": "code",
   "execution_count": 1,
   "metadata": {
    "collapsed": true
   },
   "outputs": [],
   "source": [
    "import os\n",
    "HOME = os.path.expanduser('~/')\n",
    "HOST = os.uname()[1]\n",
    "if HOST == 'Arthurs-MacBook-Pro.local':\n",
    "    os.chdir(HOME+'Documents/GitHub/OCDataSciencePath/Project6/Work/')    # @home\n",
    "else:\n",
    "    raise ValueError('unknown host: {}'.format(HOST))\n",
    "    \n",
    "import numpy as np\n",
    "import pandas as pd\n",
    "import pickle"
   ]
  },
  {
   "cell_type": "code",
   "execution_count": 2,
   "metadata": {
    "collapsed": true
   },
   "outputs": [],
   "source": [
    "from Pkg.helper import basicHTMLTextCleaner # needs correct working directory"
   ]
  },
  {
   "cell_type": "markdown",
   "metadata": {},
   "source": [
    "### Data"
   ]
  },
  {
   "cell_type": "code",
   "execution_count": 3,
   "metadata": {
    "collapsed": true
   },
   "outputs": [],
   "source": [
    "if HOST == 'Arthurs-MacBook-Pro.local':\n",
    "    pathToDataDir = HOME+'Documents/Dropbox/Transit/OCDataScienceData/Project6/Data/'    # @home\n",
    "    pathToIntellDir = HOME+'Documents/Dropbox/Transit/OCDataScienceData/Project6/Intelligence/'    # @home\n",
    "else:\n",
    "    raise ValueError('unknown host: {}'.format(HOST))"
   ]
  },
  {
   "cell_type": "code",
   "execution_count": 4,
   "metadata": {
    "collapsed": true
   },
   "outputs": [],
   "source": [
    "tokenizer = pickle.load(open(pathToIntellDir+'tokenizer.pkl','rb'))\n",
    "stopwords = pickle.load(open(pathToIntellDir+'stopwords.pkl','rb'))\n",
    "stemer = pickle.load(open(pathToIntellDir+'stemer.pkl','rb'))\n",
    "\n",
    "count_title = pickle.load(open(pathToIntellDir+'count_title.pkl','rb'))\n",
    "count_body = pickle.load(open(pathToIntellDir+'count_body.pkl','rb'))\n",
    "tfidf_title = pickle.load(open(pathToIntellDir+'tfidf_title.pkl','rb'))\n",
    "tfidf_body = pickle.load(open(pathToIntellDir+'tfidf_body.pkl','rb'))\n",
    "\n",
    "model = pickle.load(open(pathToIntellDir+'model.pkl','rb'))\n",
    "count_tag = pickle.load(open(pathToIntellDir+'count_tag.pkl','rb'))"
   ]
  },
  {
   "cell_type": "markdown",
   "metadata": {},
   "source": [
    "## API call"
   ]
  },
  {
   "cell_type": "markdown",
   "metadata": {},
   "source": [
    "### Inputs"
   ]
  },
  {
   "cell_type": "code",
   "execution_count": 5,
   "metadata": {
    "collapsed": true
   },
   "outputs": [],
   "source": [
    "check = True"
   ]
  },
  {
   "cell_type": "code",
   "execution_count": 6,
   "metadata": {
    "collapsed": true
   },
   "outputs": [],
   "source": [
    "if check:\n",
    "    filename = 'QueryResults_10k.csv'\n",
    "    df = pd.read_csv(pathToDataDir+filename,index_col='Id')\n",
    "\n",
    "    i = 35\n",
    "    title = df.iloc[i]['Title']\n",
    "    body = df.iloc[i]['Body']\n",
    "    tag = df.iloc[i]['Tags']    \n",
    "    \n",
    "else:    \n",
    "    title = 'How to shut down SQL?'\n",
    "    body = 'I don\\'t know how to set my computer off. Please help me.'"
   ]
  },
  {
   "cell_type": "markdown",
   "metadata": {},
   "source": [
    "### Data processing"
   ]
  },
  {
   "cell_type": "code",
   "execution_count": 7,
   "metadata": {
    "collapsed": true
   },
   "outputs": [],
   "source": [
    "# clean text\n",
    "title_c = basicHTMLTextCleaner(title,tokenizer,stopwords,stemer)\n",
    "body_c = basicHTMLTextCleaner(body,tokenizer,stopwords,stemer)\n",
    "# count frequencies\n",
    "title_f = count_title.transform([title_c])\n",
    "body_f = count_body.transform([body_c])\n",
    "# get TF-IDF\n",
    "title_i = tfidf_title.transform(title_f)\n",
    "body_i = tfidf_body.transform(body_f)\n",
    "# get X\n",
    "x = np.hstack((body_i.toarray(),title_i.toarray())) # SEE HOW TO AVOID .toarray()..."
   ]
  },
  {
   "cell_type": "code",
   "execution_count": 8,
   "metadata": {
    "collapsed": true
   },
   "outputs": [],
   "source": [
    "if 0 == title_i.sum():\n",
    "    print('WARN - No keyword found in the title: please be more precise.')\n",
    "if 0 == body_i.sum():\n",
    "    print('WARN - No keyword found in the body: please be more precise.')"
   ]
  },
  {
   "cell_type": "markdown",
   "metadata": {},
   "source": [
    "### Prediction"
   ]
  },
  {
   "cell_type": "code",
   "execution_count": 9,
   "metadata": {
    "collapsed": true
   },
   "outputs": [],
   "source": [
    "y_hat = model.predict(x)\n",
    "tag_hat = count_tag.inverse_transform(y_hat)\n",
    "tag_hat = list(tag_hat[0])"
   ]
  },
  {
   "cell_type": "code",
   "execution_count": 10,
   "metadata": {
    "collapsed": true
   },
   "outputs": [],
   "source": [
    "if 0 == len(tag_hat):\n",
    "    print('WARN - Did not predict any tag: maybe the question deals with rare tags?')"
   ]
  },
  {
   "cell_type": "code",
   "execution_count": 11,
   "metadata": {},
   "outputs": [
    {
     "name": "stdout",
     "output_type": "stream",
     "text": [
      "prediction:\n",
      "['<asp.net>']\n",
      "\n",
      "true:\n",
      "<.net><asp.net><svn><versioning>\n"
     ]
    }
   ],
   "source": [
    "print('prediction:\\n{}\\n'.format(tag_hat))\n",
    "if check: print('true:\\n{}'.format(tag))"
   ]
  },
  {
   "cell_type": "code",
   "execution_count": null,
   "metadata": {
    "collapsed": true
   },
   "outputs": [],
   "source": []
  }
 ],
 "metadata": {
  "kernelspec": {
   "display_name": "Python 3",
   "language": "python",
   "name": "python3"
  },
  "language_info": {
   "codemirror_mode": {
    "name": "ipython",
    "version": 3
   },
   "file_extension": ".py",
   "mimetype": "text/x-python",
   "name": "python",
   "nbconvert_exporter": "python",
   "pygments_lexer": "ipython3",
   "version": "3.6.4"
  }
 },
 "nbformat": 4,
 "nbformat_minor": 2
}
